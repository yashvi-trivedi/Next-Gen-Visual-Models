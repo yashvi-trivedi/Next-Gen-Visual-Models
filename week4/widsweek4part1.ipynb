{
  "nbformat": 4,
  "nbformat_minor": 0,
  "metadata": {
    "colab": {
      "provenance": [],
      "gpuType": "T4"
    },
    "kernelspec": {
      "name": "python3",
      "display_name": "Python 3"
    },
    "language_info": {
      "name": "python"
    },
    "accelerator": "GPU"
  },
  "cells": [
    {
      "cell_type": "code",
      "source": [
        "!nvidia-smi"
      ],
      "metadata": {
        "colab": {
          "base_uri": "https://localhost:8080/"
        },
        "id": "TwkmGB0S5G_d",
        "outputId": "72220d66-5586-445b-fd35-ca4aa069f07f"
      },
      "execution_count": 1,
      "outputs": [
        {
          "output_type": "stream",
          "name": "stdout",
          "text": [
            "Sun Feb  2 09:02:26 2025       \n",
            "+-----------------------------------------------------------------------------------------+\n",
            "| NVIDIA-SMI 550.54.15              Driver Version: 550.54.15      CUDA Version: 12.4     |\n",
            "|-----------------------------------------+------------------------+----------------------+\n",
            "| GPU  Name                 Persistence-M | Bus-Id          Disp.A | Volatile Uncorr. ECC |\n",
            "| Fan  Temp   Perf          Pwr:Usage/Cap |           Memory-Usage | GPU-Util  Compute M. |\n",
            "|                                         |                        |               MIG M. |\n",
            "|=========================================+========================+======================|\n",
            "|   0  Tesla T4                       Off |   00000000:00:04.0 Off |                    0 |\n",
            "| N/A   37C    P8             11W /   70W |       0MiB /  15360MiB |      0%      Default |\n",
            "|                                         |                        |                  N/A |\n",
            "+-----------------------------------------+------------------------+----------------------+\n",
            "                                                                                         \n",
            "+-----------------------------------------------------------------------------------------+\n",
            "| Processes:                                                                              |\n",
            "|  GPU   GI   CI        PID   Type   Process name                              GPU Memory |\n",
            "|        ID   ID                                                               Usage      |\n",
            "|=========================================================================================|\n",
            "|  No running processes found                                                             |\n",
            "+-----------------------------------------------------------------------------------------+\n"
          ]
        }
      ]
    },
    {
      "cell_type": "code",
      "execution_count": 2,
      "metadata": {
        "id": "j1XtDNXh0DxX"
      },
      "outputs": [],
      "source": [
        "import matplotlib.pyplot as plt\n",
        "import numpy as np\n",
        "import tensorflow as tf\n",
        "from tensorflow.keras import layers\n"
      ]
    },
    {
      "cell_type": "markdown",
      "source": [
        "preparing dataset"
      ],
      "metadata": {
        "id": "BNds84RA9E2k"
      }
    },
    {
      "cell_type": "code",
      "source": [
        "(train_images, _), (_, _) = tf.keras.datasets.mnist.load_data()"
      ],
      "metadata": {
        "colab": {
          "base_uri": "https://localhost:8080/"
        },
        "id": "oj_Pl1X90GEt",
        "outputId": "eb70bec5-2d2d-43eb-eb03-b55b86a9f216"
      },
      "execution_count": 3,
      "outputs": [
        {
          "output_type": "stream",
          "name": "stdout",
          "text": [
            "Downloading data from https://storage.googleapis.com/tensorflow/tf-keras-datasets/mnist.npz\n",
            "\u001b[1m11490434/11490434\u001b[0m \u001b[32m━━━━━━━━━━━━━━━━━━━━\u001b[0m\u001b[37m\u001b[0m \u001b[1m0s\u001b[0m 0us/step\n"
          ]
        }
      ]
    },
    {
      "cell_type": "code",
      "source": [
        "train_images = train_images.reshape(train_images.shape[0], 28, 28, 1).astype('float32')\n",
        "train_images = (train_images - 127.5) / 127.5"
      ],
      "metadata": {
        "id": "97H6PpO00IVG"
      },
      "execution_count": 4,
      "outputs": []
    },
    {
      "cell_type": "code",
      "source": [
        "BUFFER_SIZE = 60000\n",
        "BATCH_SIZE = 128  # Reduced batch size\n",
        "EPOCHS = 50\n",
        "noise_dim = 100"
      ],
      "metadata": {
        "id": "KXR3d5EE0K5k"
      },
      "execution_count": 5,
      "outputs": []
    },
    {
      "cell_type": "code",
      "source": [
        "train_dataset = tf.data.Dataset.from_tensor_slices(train_images)\\\n",
        "    .shuffle(BUFFER_SIZE)\\\n",
        "    .batch(BATCH_SIZE)\\\n",
        "    .prefetch(tf.data.AUTOTUNE)"
      ],
      "metadata": {
        "id": "qg2IZoyP0NM4"
      },
      "execution_count": 6,
      "outputs": []
    },
    {
      "cell_type": "markdown",
      "source": [
        "creating the model"
      ],
      "metadata": {
        "id": "DIU6m0ug9NDa"
      }
    },
    {
      "cell_type": "code",
      "source": [
        "def make_generator_model():\n",
        "    model = tf.keras.Sequential([\n",
        "        # Input layer\n",
        "        layers.Dense(7*7*256, use_bias=False, input_shape=(100,)),\n",
        "        layers.BatchNormalization(),\n",
        "        layers.LeakyReLU(),\n",
        "        layers.Reshape((7, 7, 256)),\n",
        "\n",
        "        # First upsampling block\n",
        "        layers.Conv2DTranspose(128, (5, 5), strides=(1, 1), padding='same', use_bias=False),\n",
        "        layers.BatchNormalization(),\n",
        "        layers.LeakyReLU(),\n",
        "\n",
        "        # Second upsampling block\n",
        "        layers.Conv2DTranspose(64, (5, 5), strides=(2, 2), padding='same', use_bias=False),\n",
        "        layers.BatchNormalization(),\n",
        "        layers.LeakyReLU(),\n",
        "\n",
        "        # Output layer\n",
        "        layers.Conv2DTranspose(1, (5, 5), strides=(2, 2), padding='same', use_bias=False, activation='tanh')\n",
        "    ])\n",
        "    return model"
      ],
      "metadata": {
        "id": "oX6GedHK0QGl"
      },
      "execution_count": 7,
      "outputs": []
    },
    {
      "cell_type": "code",
      "source": [
        "def make_discriminator_model():\n",
        "    model = tf.keras.Sequential([\n",
        "        layers.Conv2D(64, (5, 5), strides=(2, 2), padding='same', input_shape=[28, 28, 1]),\n",
        "        layers.LeakyReLU(),\n",
        "        layers.Dropout(0.3),\n",
        "\n",
        "        layers.Conv2D(128, (5, 5), strides=(2, 2), padding='same'),\n",
        "        layers.LeakyReLU(),\n",
        "        layers.Dropout(0.3),\n",
        "\n",
        "        layers.Flatten(),\n",
        "        layers.Dense(1)\n",
        "    ])\n",
        "    return model"
      ],
      "metadata": {
        "id": "Srs0HsOx0T2q"
      },
      "execution_count": 8,
      "outputs": []
    },
    {
      "cell_type": "code",
      "source": [
        "# Initialize models\n",
        "generator = make_generator_model()\n",
        "discriminator = make_discriminator_model()"
      ],
      "metadata": {
        "colab": {
          "base_uri": "https://localhost:8080/"
        },
        "id": "JFQx4fGJ0WwJ",
        "outputId": "3f53d556-ad78-4151-abe9-90189055ac2a"
      },
      "execution_count": 9,
      "outputs": [
        {
          "output_type": "stream",
          "name": "stderr",
          "text": [
            "/usr/local/lib/python3.11/dist-packages/keras/src/layers/core/dense.py:87: UserWarning: Do not pass an `input_shape`/`input_dim` argument to a layer. When using Sequential models, prefer using an `Input(shape)` object as the first layer in the model instead.\n",
            "  super().__init__(activity_regularizer=activity_regularizer, **kwargs)\n",
            "/usr/local/lib/python3.11/dist-packages/keras/src/layers/convolutional/base_conv.py:107: UserWarning: Do not pass an `input_shape`/`input_dim` argument to a layer. When using Sequential models, prefer using an `Input(shape)` object as the first layer in the model instead.\n",
            "  super().__init__(activity_regularizer=activity_regularizer, **kwargs)\n"
          ]
        }
      ]
    },
    {
      "cell_type": "markdown",
      "source": [
        "loss and optimizer"
      ],
      "metadata": {
        "id": "34Bzft_r9UHW"
      }
    },
    {
      "cell_type": "code",
      "source": [
        "# Loss functions\n",
        "cross_entropy = tf.keras.losses.BinaryCrossentropy(from_logits=True)\n"
      ],
      "metadata": {
        "id": "XTTW7rDE0YrA"
      },
      "execution_count": 10,
      "outputs": []
    },
    {
      "cell_type": "code",
      "source": [
        "def discriminator_loss(real_output, fake_output):\n",
        "    real_loss = cross_entropy(tf.ones_like(real_output), real_output)\n",
        "    fake_loss = cross_entropy(tf.zeros_like(fake_output), fake_output)\n",
        "    return real_loss + fake_loss"
      ],
      "metadata": {
        "id": "1pe9-7Uf0a-5"
      },
      "execution_count": 11,
      "outputs": []
    },
    {
      "cell_type": "code",
      "source": [
        "def generator_loss(fake_output):\n",
        "    return cross_entropy(tf.ones_like(fake_output), fake_output)"
      ],
      "metadata": {
        "id": "T2WvVhRw0c_t"
      },
      "execution_count": 12,
      "outputs": []
    },
    {
      "cell_type": "code",
      "source": [
        "# Optimizers with adjusted learning rates\n",
        "generator_optimizer = tf.keras.optimizers.Adam(2e-4, beta_1=0.5)\n",
        "discriminator_optimizer = tf.keras.optimizers.Adam(2e-4, beta_1=0.5)"
      ],
      "metadata": {
        "id": "RZUc_Oc30fL9"
      },
      "execution_count": 13,
      "outputs": []
    },
    {
      "cell_type": "markdown",
      "source": [
        "training loop"
      ],
      "metadata": {
        "id": "_GBdHvgq9WWY"
      }
    },
    {
      "cell_type": "code",
      "source": [
        "# Training step with progress tracking\n",
        "@tf.function\n",
        "def train_step(images):\n",
        "    noise = tf.random.normal([BATCH_SIZE, noise_dim])\n",
        "\n",
        "    with tf.GradientTape() as gen_tape, tf.GradientTape() as disc_tape:\n",
        "        generated_images = generator(noise, training=True)\n",
        "\n",
        "        real_output = discriminator(images, training=True)\n",
        "        fake_output = discriminator(generated_images, training=True)\n",
        "\n",
        "        gen_loss = generator_loss(fake_output)\n",
        "        disc_loss = discriminator_loss(real_output, fake_output)\n",
        "\n",
        "    gradients_of_generator = gen_tape.gradient(gen_loss, generator.trainable_variables)\n",
        "    gradients_of_discriminator = disc_tape.gradient(disc_loss, discriminator.trainable_variables)\n",
        "\n",
        "    generator_optimizer.apply_gradients(zip(gradients_of_generator, generator.trainable_variables))\n",
        "    discriminator_optimizer.apply_gradients(zip(gradients_of_discriminator, discriminator.trainable_variables))\n",
        "\n",
        "    return gen_loss, disc_loss"
      ],
      "metadata": {
        "id": "eGli8UUz0jI9"
      },
      "execution_count": 14,
      "outputs": []
    },
    {
      "cell_type": "code",
      "source": [
        "def train(dataset, epochs):\n",
        "    gen_losses = []\n",
        "    disc_losses = []\n",
        "\n",
        "    # Progress bar\n",
        "    for epoch in range(epochs):\n",
        "        print(f\"\\nEpoch {epoch+1}/{epochs}\")\n",
        "\n",
        "        # Track batch progress\n",
        "        batch_gen_losses = []\n",
        "        batch_disc_losses = []\n",
        "        num_batches = len(list(dataset))\n",
        "\n",
        "        for batch_idx, image_batch in enumerate(dataset):\n",
        "            gen_loss, disc_loss = train_step(image_batch)\n",
        "            batch_gen_losses.append(gen_loss.numpy())\n",
        "            batch_disc_losses.append(disc_loss.numpy())\n",
        "\n",
        "            # Print progress every 50 batches\n",
        "            if (batch_idx + 1) % 50 == 0:\n",
        "                print(f\"Batch {batch_idx + 1}/{num_batches} - \"\n",
        "                      f\"Gen Loss: {np.mean(batch_gen_losses):.4f}, \"\n",
        "                      f\"Disc Loss: {np.mean(batch_disc_losses):.4f}\")\n",
        "\n",
        "        # Store epoch losses\n",
        "        gen_losses.append(np.mean(batch_gen_losses))\n",
        "        disc_losses.append(np.mean(batch_disc_losses))\n",
        "\n",
        "    return gen_losses, disc_losses"
      ],
      "metadata": {
        "id": "HAgNxXJA0mlv"
      },
      "execution_count": 15,
      "outputs": []
    },
    {
      "cell_type": "code",
      "source": [
        "def generate_and_save_images(model, epoch, test_input):\n",
        "    predictions = model(test_input, training=False)\n",
        "\n",
        "    fig = plt.figure(figsize=(4, 4))\n",
        "    for i in range(predictions.shape[0]):\n",
        "        plt.subplot(4, 4, i+1)\n",
        "        plt.imshow(predictions[i, :, :, 0] * 127.5 + 127.5, cmap='gray')\n",
        "        plt.axis('off')\n",
        "    plt.show()"
      ],
      "metadata": {
        "id": "XdUjoViT0pwF"
      },
      "execution_count": 16,
      "outputs": []
    },
    {
      "cell_type": "code",
      "source": [
        "num_examples_to_generate = 16\n",
        "seed = tf.random.normal([num_examples_to_generate, noise_dim])"
      ],
      "metadata": {
        "id": "wJPKPhAf0s0C"
      },
      "execution_count": 17,
      "outputs": []
    },
    {
      "cell_type": "markdown",
      "source": [
        "training the model"
      ],
      "metadata": {
        "id": "zYp-iaCa9f2p"
      }
    },
    {
      "cell_type": "code",
      "source": [
        "# Train the model\n",
        "gen_losses, disc_losses = train(train_dataset, EPOCHS)\n",
        "\n"
      ],
      "metadata": {
        "colab": {
          "base_uri": "https://localhost:8080/"
        },
        "id": "CErlFLz91N3J",
        "outputId": "735899a3-da57-4ec1-ef7c-f078b483e719"
      },
      "execution_count": 18,
      "outputs": [
        {
          "output_type": "stream",
          "name": "stdout",
          "text": [
            "\n",
            "Epoch 1/50\n",
            "Batch 50/469 - Gen Loss: 0.5830, Disc Loss: 1.2179\n",
            "Batch 100/469 - Gen Loss: 0.6153, Disc Loss: 1.2828\n",
            "Batch 150/469 - Gen Loss: 0.6444, Disc Loss: 1.2915\n",
            "Batch 200/469 - Gen Loss: 0.6612, Disc Loss: 1.2994\n",
            "Batch 250/469 - Gen Loss: 0.6729, Disc Loss: 1.3061\n",
            "Batch 300/469 - Gen Loss: 0.6827, Disc Loss: 1.3118\n",
            "Batch 350/469 - Gen Loss: 0.6892, Disc Loss: 1.3175\n",
            "Batch 400/469 - Gen Loss: 0.6944, Disc Loss: 1.3225\n",
            "Batch 450/469 - Gen Loss: 0.6981, Disc Loss: 1.3252\n",
            "\n",
            "Epoch 2/50\n",
            "Batch 50/469 - Gen Loss: 0.7314, Disc Loss: 1.3534\n",
            "Batch 100/469 - Gen Loss: 0.7294, Disc Loss: 1.3515\n",
            "Batch 150/469 - Gen Loss: 0.7330, Disc Loss: 1.3511\n",
            "Batch 200/469 - Gen Loss: 0.7339, Disc Loss: 1.3485\n",
            "Batch 250/469 - Gen Loss: 0.7366, Disc Loss: 1.3510\n",
            "Batch 300/469 - Gen Loss: 0.7377, Disc Loss: 1.3477\n",
            "Batch 350/469 - Gen Loss: 0.7385, Disc Loss: 1.3472\n",
            "Batch 400/469 - Gen Loss: 0.7409, Disc Loss: 1.3455\n",
            "Batch 450/469 - Gen Loss: 0.7434, Disc Loss: 1.3434\n",
            "\n",
            "Epoch 3/50\n",
            "Batch 50/469 - Gen Loss: 0.7647, Disc Loss: 1.3089\n",
            "Batch 100/469 - Gen Loss: 0.7748, Disc Loss: 1.3140\n",
            "Batch 150/469 - Gen Loss: 0.7842, Disc Loss: 1.3057\n",
            "Batch 200/469 - Gen Loss: 0.7891, Disc Loss: 1.3031\n",
            "Batch 250/469 - Gen Loss: 0.7932, Disc Loss: 1.2982\n",
            "Batch 300/469 - Gen Loss: 0.7935, Disc Loss: 1.2962\n",
            "Batch 350/469 - Gen Loss: 0.7986, Disc Loss: 1.2880\n",
            "Batch 400/469 - Gen Loss: 0.8052, Disc Loss: 1.2864\n",
            "Batch 450/469 - Gen Loss: 0.8100, Disc Loss: 1.2820\n",
            "\n",
            "Epoch 4/50\n",
            "Batch 50/469 - Gen Loss: 0.8400, Disc Loss: 1.2461\n",
            "Batch 100/469 - Gen Loss: 0.8517, Disc Loss: 1.2563\n",
            "Batch 150/469 - Gen Loss: 0.8505, Disc Loss: 1.2486\n",
            "Batch 200/469 - Gen Loss: 0.8552, Disc Loss: 1.2504\n",
            "Batch 250/469 - Gen Loss: 0.8513, Disc Loss: 1.2501\n",
            "Batch 300/469 - Gen Loss: 0.8490, Disc Loss: 1.2524\n",
            "Batch 350/469 - Gen Loss: 0.8462, Disc Loss: 1.2555\n",
            "Batch 400/469 - Gen Loss: 0.8456, Disc Loss: 1.2574\n",
            "Batch 450/469 - Gen Loss: 0.8441, Disc Loss: 1.2613\n",
            "\n",
            "Epoch 5/50\n",
            "Batch 50/469 - Gen Loss: 0.8179, Disc Loss: 1.2838\n",
            "Batch 100/469 - Gen Loss: 0.8097, Disc Loss: 1.2948\n",
            "Batch 150/469 - Gen Loss: 0.8026, Disc Loss: 1.2999\n",
            "Batch 200/469 - Gen Loss: 0.7991, Disc Loss: 1.3024\n",
            "Batch 250/469 - Gen Loss: 0.7957, Disc Loss: 1.3075\n",
            "Batch 300/469 - Gen Loss: 0.7939, Disc Loss: 1.3095\n",
            "Batch 350/469 - Gen Loss: 0.7941, Disc Loss: 1.3102\n",
            "Batch 400/469 - Gen Loss: 0.7967, Disc Loss: 1.3099\n",
            "Batch 450/469 - Gen Loss: 0.7985, Disc Loss: 1.3089\n",
            "\n",
            "Epoch 6/50\n",
            "Batch 50/469 - Gen Loss: 0.7904, Disc Loss: 1.3106\n",
            "Batch 100/469 - Gen Loss: 0.7831, Disc Loss: 1.3198\n",
            "Batch 150/469 - Gen Loss: 0.7798, Disc Loss: 1.3199\n",
            "Batch 200/469 - Gen Loss: 0.7797, Disc Loss: 1.3215\n",
            "Batch 250/469 - Gen Loss: 0.7775, Disc Loss: 1.3233\n",
            "Batch 300/469 - Gen Loss: 0.7787, Disc Loss: 1.3236\n",
            "Batch 350/469 - Gen Loss: 0.7794, Disc Loss: 1.3235\n",
            "Batch 400/469 - Gen Loss: 0.7833, Disc Loss: 1.3221\n",
            "Batch 450/469 - Gen Loss: 0.7848, Disc Loss: 1.3211\n",
            "\n",
            "Epoch 7/50\n",
            "Batch 50/469 - Gen Loss: 0.7734, Disc Loss: 1.3226\n",
            "Batch 100/469 - Gen Loss: 0.7709, Disc Loss: 1.3242\n",
            "Batch 150/469 - Gen Loss: 0.7721, Disc Loss: 1.3229\n",
            "Batch 200/469 - Gen Loss: 0.7714, Disc Loss: 1.3226\n",
            "Batch 250/469 - Gen Loss: 0.7732, Disc Loss: 1.3220\n",
            "Batch 300/469 - Gen Loss: 0.7784, Disc Loss: 1.3211\n",
            "Batch 350/469 - Gen Loss: 0.7849, Disc Loss: 1.3182\n",
            "Batch 400/469 - Gen Loss: 0.7867, Disc Loss: 1.3167\n",
            "Batch 450/469 - Gen Loss: 0.7880, Disc Loss: 1.3157\n",
            "\n",
            "Epoch 8/50\n",
            "Batch 50/469 - Gen Loss: 0.7877, Disc Loss: 1.3153\n",
            "Batch 100/469 - Gen Loss: 0.7845, Disc Loss: 1.3182\n",
            "Batch 150/469 - Gen Loss: 0.7845, Disc Loss: 1.3180\n",
            "Batch 200/469 - Gen Loss: 0.7853, Disc Loss: 1.3151\n",
            "Batch 250/469 - Gen Loss: 0.7832, Disc Loss: 1.3160\n",
            "Batch 300/469 - Gen Loss: 0.7822, Disc Loss: 1.3164\n",
            "Batch 350/469 - Gen Loss: 0.7812, Disc Loss: 1.3172\n",
            "Batch 400/469 - Gen Loss: 0.7854, Disc Loss: 1.3172\n",
            "Batch 450/469 - Gen Loss: 0.7880, Disc Loss: 1.3158\n",
            "\n",
            "Epoch 9/50\n",
            "Batch 50/469 - Gen Loss: 0.7898, Disc Loss: 1.3135\n",
            "Batch 100/469 - Gen Loss: 0.7857, Disc Loss: 1.3147\n",
            "Batch 150/469 - Gen Loss: 0.7863, Disc Loss: 1.3133\n",
            "Batch 200/469 - Gen Loss: 0.7870, Disc Loss: 1.3140\n",
            "Batch 250/469 - Gen Loss: 0.7901, Disc Loss: 1.3125\n",
            "Batch 300/469 - Gen Loss: 0.7943, Disc Loss: 1.3123\n",
            "Batch 350/469 - Gen Loss: 0.7974, Disc Loss: 1.3105\n",
            "Batch 400/469 - Gen Loss: 0.7981, Disc Loss: 1.3097\n",
            "Batch 450/469 - Gen Loss: 0.7976, Disc Loss: 1.3096\n",
            "\n",
            "Epoch 10/50\n",
            "Batch 50/469 - Gen Loss: 0.7929, Disc Loss: 1.3105\n",
            "Batch 100/469 - Gen Loss: 0.7903, Disc Loss: 1.3121\n",
            "Batch 150/469 - Gen Loss: 0.7893, Disc Loss: 1.3127\n",
            "Batch 200/469 - Gen Loss: 0.7921, Disc Loss: 1.3088\n",
            "Batch 250/469 - Gen Loss: 0.7953, Disc Loss: 1.3086\n",
            "Batch 300/469 - Gen Loss: 0.7957, Disc Loss: 1.3077\n",
            "Batch 350/469 - Gen Loss: 0.7954, Disc Loss: 1.3083\n",
            "Batch 400/469 - Gen Loss: 0.7952, Disc Loss: 1.3086\n",
            "Batch 450/469 - Gen Loss: 0.7968, Disc Loss: 1.3075\n",
            "\n",
            "Epoch 11/50\n",
            "Batch 50/469 - Gen Loss: 0.8049, Disc Loss: 1.2981\n",
            "Batch 100/469 - Gen Loss: 0.8041, Disc Loss: 1.3039\n",
            "Batch 150/469 - Gen Loss: 0.7986, Disc Loss: 1.3063\n",
            "Batch 200/469 - Gen Loss: 0.8031, Disc Loss: 1.3043\n",
            "Batch 250/469 - Gen Loss: 0.8089, Disc Loss: 1.3032\n",
            "Batch 300/469 - Gen Loss: 0.8116, Disc Loss: 1.3021\n",
            "Batch 350/469 - Gen Loss: 0.8117, Disc Loss: 1.3017\n",
            "Batch 400/469 - Gen Loss: 0.8106, Disc Loss: 1.3009\n",
            "Batch 450/469 - Gen Loss: 0.8093, Disc Loss: 1.3008\n",
            "\n",
            "Epoch 12/50\n",
            "Batch 50/469 - Gen Loss: 0.7931, Disc Loss: 1.3123\n",
            "Batch 100/469 - Gen Loss: 0.7937, Disc Loss: 1.3112\n",
            "Batch 150/469 - Gen Loss: 0.7936, Disc Loss: 1.3095\n",
            "Batch 200/469 - Gen Loss: 0.7941, Disc Loss: 1.3098\n",
            "Batch 250/469 - Gen Loss: 0.7959, Disc Loss: 1.3077\n",
            "Batch 300/469 - Gen Loss: 0.7988, Disc Loss: 1.3072\n",
            "Batch 350/469 - Gen Loss: 0.8051, Disc Loss: 1.3071\n",
            "Batch 400/469 - Gen Loss: 0.8075, Disc Loss: 1.3052\n",
            "Batch 450/469 - Gen Loss: 0.8093, Disc Loss: 1.3038\n",
            "\n",
            "Epoch 13/50\n",
            "Batch 50/469 - Gen Loss: 0.8059, Disc Loss: 1.3080\n",
            "Batch 100/469 - Gen Loss: 0.8105, Disc Loss: 1.3024\n",
            "Batch 150/469 - Gen Loss: 0.8130, Disc Loss: 1.2990\n",
            "Batch 200/469 - Gen Loss: 0.8155, Disc Loss: 1.2975\n",
            "Batch 250/469 - Gen Loss: 0.8149, Disc Loss: 1.2995\n",
            "Batch 300/469 - Gen Loss: 0.8165, Disc Loss: 1.2999\n",
            "Batch 350/469 - Gen Loss: 0.8172, Disc Loss: 1.2995\n",
            "Batch 400/469 - Gen Loss: 0.8176, Disc Loss: 1.2984\n",
            "Batch 450/469 - Gen Loss: 0.8173, Disc Loss: 1.2981\n",
            "\n",
            "Epoch 14/50\n",
            "Batch 50/469 - Gen Loss: 0.8135, Disc Loss: 1.2916\n",
            "Batch 100/469 - Gen Loss: 0.8127, Disc Loss: 1.2953\n",
            "Batch 150/469 - Gen Loss: 0.8126, Disc Loss: 1.2963\n",
            "Batch 200/469 - Gen Loss: 0.8140, Disc Loss: 1.2978\n",
            "Batch 250/469 - Gen Loss: 0.8173, Disc Loss: 1.2954\n",
            "Batch 300/469 - Gen Loss: 0.8178, Disc Loss: 1.2957\n",
            "Batch 350/469 - Gen Loss: 0.8175, Disc Loss: 1.2962\n",
            "Batch 400/469 - Gen Loss: 0.8164, Disc Loss: 1.2974\n",
            "Batch 450/469 - Gen Loss: 0.8151, Disc Loss: 1.2979\n",
            "\n",
            "Epoch 15/50\n",
            "Batch 50/469 - Gen Loss: 0.8043, Disc Loss: 1.2999\n",
            "Batch 100/469 - Gen Loss: 0.8074, Disc Loss: 1.2982\n",
            "Batch 150/469 - Gen Loss: 0.8082, Disc Loss: 1.3000\n",
            "Batch 200/469 - Gen Loss: 0.8077, Disc Loss: 1.3010\n",
            "Batch 250/469 - Gen Loss: 0.8063, Disc Loss: 1.3034\n",
            "Batch 300/469 - Gen Loss: 0.8049, Disc Loss: 1.3047\n",
            "Batch 350/469 - Gen Loss: 0.8047, Disc Loss: 1.3045\n",
            "Batch 400/469 - Gen Loss: 0.8067, Disc Loss: 1.3033\n",
            "Batch 450/469 - Gen Loss: 0.8142, Disc Loss: 1.3021\n",
            "\n",
            "Epoch 16/50\n",
            "Batch 50/469 - Gen Loss: 0.8466, Disc Loss: 1.2788\n",
            "Batch 100/469 - Gen Loss: 0.8321, Disc Loss: 1.2894\n",
            "Batch 150/469 - Gen Loss: 0.8292, Disc Loss: 1.2925\n",
            "Batch 200/469 - Gen Loss: 0.8285, Disc Loss: 1.2929\n",
            "Batch 250/469 - Gen Loss: 0.8297, Disc Loss: 1.2916\n",
            "Batch 300/469 - Gen Loss: 0.8311, Disc Loss: 1.2925\n",
            "Batch 350/469 - Gen Loss: 0.8287, Disc Loss: 1.2941\n",
            "Batch 400/469 - Gen Loss: 0.8264, Disc Loss: 1.2947\n",
            "Batch 450/469 - Gen Loss: 0.8234, Disc Loss: 1.2954\n",
            "\n",
            "Epoch 17/50\n",
            "Batch 50/469 - Gen Loss: 0.8051, Disc Loss: 1.3018\n",
            "Batch 100/469 - Gen Loss: 0.8068, Disc Loss: 1.3014\n",
            "Batch 150/469 - Gen Loss: 0.8071, Disc Loss: 1.2994\n",
            "Batch 200/469 - Gen Loss: 0.8090, Disc Loss: 1.3009\n",
            "Batch 250/469 - Gen Loss: 0.8134, Disc Loss: 1.2997\n",
            "Batch 300/469 - Gen Loss: 0.8134, Disc Loss: 1.2992\n",
            "Batch 350/469 - Gen Loss: 0.8165, Disc Loss: 1.2984\n",
            "Batch 400/469 - Gen Loss: 0.8202, Disc Loss: 1.2982\n",
            "Batch 450/469 - Gen Loss: 0.8223, Disc Loss: 1.2979\n",
            "\n",
            "Epoch 18/50\n",
            "Batch 50/469 - Gen Loss: 0.8314, Disc Loss: 1.2980\n",
            "Batch 100/469 - Gen Loss: 0.8263, Disc Loss: 1.2981\n",
            "Batch 150/469 - Gen Loss: 0.8279, Disc Loss: 1.2978\n",
            "Batch 200/469 - Gen Loss: 0.8310, Disc Loss: 1.2962\n",
            "Batch 250/469 - Gen Loss: 0.8301, Disc Loss: 1.2960\n",
            "Batch 300/469 - Gen Loss: 0.8291, Disc Loss: 1.2950\n",
            "Batch 350/469 - Gen Loss: 0.8270, Disc Loss: 1.2948\n",
            "Batch 400/469 - Gen Loss: 0.8242, Disc Loss: 1.2962\n",
            "Batch 450/469 - Gen Loss: 0.8224, Disc Loss: 1.2966\n",
            "\n",
            "Epoch 19/50\n",
            "Batch 50/469 - Gen Loss: 0.8106, Disc Loss: 1.3016\n",
            "Batch 100/469 - Gen Loss: 0.8135, Disc Loss: 1.3007\n",
            "Batch 150/469 - Gen Loss: 0.8181, Disc Loss: 1.3006\n",
            "Batch 200/469 - Gen Loss: 0.8227, Disc Loss: 1.2988\n",
            "Batch 250/469 - Gen Loss: 0.8257, Disc Loss: 1.2969\n",
            "Batch 300/469 - Gen Loss: 0.8277, Disc Loss: 1.2967\n",
            "Batch 350/469 - Gen Loss: 0.8264, Disc Loss: 1.2970\n",
            "Batch 400/469 - Gen Loss: 0.8245, Disc Loss: 1.2977\n",
            "Batch 450/469 - Gen Loss: 0.8239, Disc Loss: 1.2976\n",
            "\n",
            "Epoch 20/50\n",
            "Batch 50/469 - Gen Loss: 0.8220, Disc Loss: 1.3047\n",
            "Batch 100/469 - Gen Loss: 0.8165, Disc Loss: 1.3072\n",
            "Batch 150/469 - Gen Loss: 0.8157, Disc Loss: 1.3037\n",
            "Batch 200/469 - Gen Loss: 0.8159, Disc Loss: 1.3037\n",
            "Batch 250/469 - Gen Loss: 0.8171, Disc Loss: 1.3016\n",
            "Batch 300/469 - Gen Loss: 0.8173, Disc Loss: 1.3004\n",
            "Batch 350/469 - Gen Loss: 0.8173, Disc Loss: 1.3009\n",
            "Batch 400/469 - Gen Loss: 0.8152, Disc Loss: 1.3026\n",
            "Batch 450/469 - Gen Loss: 0.8145, Disc Loss: 1.3030\n",
            "\n",
            "Epoch 21/50\n",
            "Batch 50/469 - Gen Loss: 0.8086, Disc Loss: 1.3017\n",
            "Batch 100/469 - Gen Loss: 0.8077, Disc Loss: 1.3036\n",
            "Batch 150/469 - Gen Loss: 0.8105, Disc Loss: 1.3022\n",
            "Batch 200/469 - Gen Loss: 0.8116, Disc Loss: 1.3036\n",
            "Batch 250/469 - Gen Loss: 0.8120, Disc Loss: 1.3037\n",
            "Batch 300/469 - Gen Loss: 0.8168, Disc Loss: 1.3033\n",
            "Batch 350/469 - Gen Loss: 0.8200, Disc Loss: 1.3012\n",
            "Batch 400/469 - Gen Loss: 0.8233, Disc Loss: 1.3000\n",
            "Batch 450/469 - Gen Loss: 0.8253, Disc Loss: 1.2992\n",
            "\n",
            "Epoch 22/50\n",
            "Batch 50/469 - Gen Loss: 0.8285, Disc Loss: 1.2948\n",
            "Batch 100/469 - Gen Loss: 0.8285, Disc Loss: 1.2931\n",
            "Batch 150/469 - Gen Loss: 0.8293, Disc Loss: 1.2957\n",
            "Batch 200/469 - Gen Loss: 0.8309, Disc Loss: 1.2940\n",
            "Batch 250/469 - Gen Loss: 0.8314, Disc Loss: 1.2936\n",
            "Batch 300/469 - Gen Loss: 0.8298, Disc Loss: 1.2936\n",
            "Batch 350/469 - Gen Loss: 0.8278, Disc Loss: 1.2944\n",
            "Batch 400/469 - Gen Loss: 0.8274, Disc Loss: 1.2948\n",
            "Batch 450/469 - Gen Loss: 0.8273, Disc Loss: 1.2954\n",
            "\n",
            "Epoch 23/50\n",
            "Batch 50/469 - Gen Loss: 0.8219, Disc Loss: 1.3069\n",
            "Batch 100/469 - Gen Loss: 0.8169, Disc Loss: 1.3025\n",
            "Batch 150/469 - Gen Loss: 0.8206, Disc Loss: 1.3021\n",
            "Batch 200/469 - Gen Loss: 0.8220, Disc Loss: 1.3000\n",
            "Batch 250/469 - Gen Loss: 0.8225, Disc Loss: 1.2996\n",
            "Batch 300/469 - Gen Loss: 0.8214, Disc Loss: 1.3010\n",
            "Batch 350/469 - Gen Loss: 0.8225, Disc Loss: 1.3014\n",
            "Batch 400/469 - Gen Loss: 0.8230, Disc Loss: 1.3011\n",
            "Batch 450/469 - Gen Loss: 0.8241, Disc Loss: 1.3010\n",
            "\n",
            "Epoch 24/50\n",
            "Batch 50/469 - Gen Loss: 0.8181, Disc Loss: 1.3017\n",
            "Batch 100/469 - Gen Loss: 0.8167, Disc Loss: 1.3018\n",
            "Batch 150/469 - Gen Loss: 0.8159, Disc Loss: 1.3017\n",
            "Batch 200/469 - Gen Loss: 0.8149, Disc Loss: 1.3018\n",
            "Batch 250/469 - Gen Loss: 0.8147, Disc Loss: 1.3030\n",
            "Batch 300/469 - Gen Loss: 0.8142, Disc Loss: 1.3030\n",
            "Batch 350/469 - Gen Loss: 0.8135, Disc Loss: 1.3032\n",
            "Batch 400/469 - Gen Loss: 0.8132, Disc Loss: 1.3036\n",
            "Batch 450/469 - Gen Loss: 0.8130, Disc Loss: 1.3035\n",
            "\n",
            "Epoch 25/50\n",
            "Batch 50/469 - Gen Loss: 0.8159, Disc Loss: 1.3060\n",
            "Batch 100/469 - Gen Loss: 0.8140, Disc Loss: 1.3037\n",
            "Batch 150/469 - Gen Loss: 0.8135, Disc Loss: 1.3031\n",
            "Batch 200/469 - Gen Loss: 0.8145, Disc Loss: 1.3030\n",
            "Batch 250/469 - Gen Loss: 0.8192, Disc Loss: 1.3037\n",
            "Batch 300/469 - Gen Loss: 0.8204, Disc Loss: 1.3044\n",
            "Batch 350/469 - Gen Loss: 0.8215, Disc Loss: 1.3040\n",
            "Batch 400/469 - Gen Loss: 0.8229, Disc Loss: 1.3029\n",
            "Batch 450/469 - Gen Loss: 0.8228, Disc Loss: 1.3032\n",
            "\n",
            "Epoch 26/50\n",
            "Batch 50/469 - Gen Loss: 0.8276, Disc Loss: 1.2979\n",
            "Batch 100/469 - Gen Loss: 0.8238, Disc Loss: 1.3015\n",
            "Batch 150/469 - Gen Loss: 0.8168, Disc Loss: 1.3054\n",
            "Batch 200/469 - Gen Loss: 0.8151, Disc Loss: 1.3050\n",
            "Batch 250/469 - Gen Loss: 0.8166, Disc Loss: 1.3036\n",
            "Batch 300/469 - Gen Loss: 0.8178, Disc Loss: 1.3027\n",
            "Batch 350/469 - Gen Loss: 0.8169, Disc Loss: 1.3038\n",
            "Batch 400/469 - Gen Loss: 0.8170, Disc Loss: 1.3032\n",
            "Batch 450/469 - Gen Loss: 0.8169, Disc Loss: 1.3031\n",
            "\n",
            "Epoch 27/50\n",
            "Batch 50/469 - Gen Loss: 0.8130, Disc Loss: 1.2957\n",
            "Batch 100/469 - Gen Loss: 0.8122, Disc Loss: 1.3001\n",
            "Batch 150/469 - Gen Loss: 0.8156, Disc Loss: 1.3054\n",
            "Batch 200/469 - Gen Loss: 0.8207, Disc Loss: 1.3038\n",
            "Batch 250/469 - Gen Loss: 0.8249, Disc Loss: 1.3017\n",
            "Batch 300/469 - Gen Loss: 0.8283, Disc Loss: 1.2997\n",
            "Batch 350/469 - Gen Loss: 0.8288, Disc Loss: 1.3000\n",
            "Batch 400/469 - Gen Loss: 0.8285, Disc Loss: 1.2990\n",
            "Batch 450/469 - Gen Loss: 0.8280, Disc Loss: 1.2991\n",
            "\n",
            "Epoch 28/50\n",
            "Batch 50/469 - Gen Loss: 0.8285, Disc Loss: 1.2982\n",
            "Batch 100/469 - Gen Loss: 0.8220, Disc Loss: 1.3031\n",
            "Batch 150/469 - Gen Loss: 0.8172, Disc Loss: 1.3029\n",
            "Batch 200/469 - Gen Loss: 0.8149, Disc Loss: 1.3038\n",
            "Batch 250/469 - Gen Loss: 0.8132, Disc Loss: 1.3040\n",
            "Batch 300/469 - Gen Loss: 0.8122, Disc Loss: 1.3046\n",
            "Batch 350/469 - Gen Loss: 0.8114, Disc Loss: 1.3054\n",
            "Batch 400/469 - Gen Loss: 0.8113, Disc Loss: 1.3052\n",
            "Batch 450/469 - Gen Loss: 0.8120, Disc Loss: 1.3053\n",
            "\n",
            "Epoch 29/50\n",
            "Batch 50/469 - Gen Loss: 0.8047, Disc Loss: 1.3086\n",
            "Batch 100/469 - Gen Loss: 0.8108, Disc Loss: 1.3046\n",
            "Batch 150/469 - Gen Loss: 0.8083, Disc Loss: 1.3083\n",
            "Batch 200/469 - Gen Loss: 0.8089, Disc Loss: 1.3071\n",
            "Batch 250/469 - Gen Loss: 0.8100, Disc Loss: 1.3067\n",
            "Batch 300/469 - Gen Loss: 0.8126, Disc Loss: 1.3062\n",
            "Batch 350/469 - Gen Loss: 0.8176, Disc Loss: 1.3077\n",
            "Batch 400/469 - Gen Loss: 0.8206, Disc Loss: 1.3068\n",
            "Batch 450/469 - Gen Loss: 0.8220, Disc Loss: 1.3052\n",
            "\n",
            "Epoch 30/50\n",
            "Batch 50/469 - Gen Loss: 0.8360, Disc Loss: 1.2978\n",
            "Batch 100/469 - Gen Loss: 0.8293, Disc Loss: 1.2981\n",
            "Batch 150/469 - Gen Loss: 0.8239, Disc Loss: 1.2996\n",
            "Batch 200/469 - Gen Loss: 0.8203, Disc Loss: 1.3011\n",
            "Batch 250/469 - Gen Loss: 0.8205, Disc Loss: 1.3014\n",
            "Batch 300/469 - Gen Loss: 0.8191, Disc Loss: 1.3012\n",
            "Batch 350/469 - Gen Loss: 0.8178, Disc Loss: 1.3011\n",
            "Batch 400/469 - Gen Loss: 0.8167, Disc Loss: 1.3018\n",
            "Batch 450/469 - Gen Loss: 0.8165, Disc Loss: 1.3022\n",
            "\n",
            "Epoch 31/50\n",
            "Batch 50/469 - Gen Loss: 0.8060, Disc Loss: 1.3053\n",
            "Batch 100/469 - Gen Loss: 0.8085, Disc Loss: 1.3083\n",
            "Batch 150/469 - Gen Loss: 0.8092, Disc Loss: 1.3081\n",
            "Batch 200/469 - Gen Loss: 0.8090, Disc Loss: 1.3077\n",
            "Batch 250/469 - Gen Loss: 0.8102, Disc Loss: 1.3076\n",
            "Batch 300/469 - Gen Loss: 0.8091, Disc Loss: 1.3090\n",
            "Batch 350/469 - Gen Loss: 0.8100, Disc Loss: 1.3094\n",
            "Batch 400/469 - Gen Loss: 0.8140, Disc Loss: 1.3077\n",
            "Batch 450/469 - Gen Loss: 0.8147, Disc Loss: 1.3082\n",
            "\n",
            "Epoch 32/50\n",
            "Batch 50/469 - Gen Loss: 0.8164, Disc Loss: 1.3106\n",
            "Batch 100/469 - Gen Loss: 0.8159, Disc Loss: 1.3094\n",
            "Batch 150/469 - Gen Loss: 0.8165, Disc Loss: 1.3061\n",
            "Batch 200/469 - Gen Loss: 0.8136, Disc Loss: 1.3061\n",
            "Batch 250/469 - Gen Loss: 0.8131, Disc Loss: 1.3060\n",
            "Batch 300/469 - Gen Loss: 0.8128, Disc Loss: 1.3056\n",
            "Batch 350/469 - Gen Loss: 0.8127, Disc Loss: 1.3064\n",
            "Batch 400/469 - Gen Loss: 0.8133, Disc Loss: 1.3060\n",
            "Batch 450/469 - Gen Loss: 0.8136, Disc Loss: 1.3067\n",
            "\n",
            "Epoch 33/50\n",
            "Batch 50/469 - Gen Loss: 0.8122, Disc Loss: 1.3072\n",
            "Batch 100/469 - Gen Loss: 0.8109, Disc Loss: 1.3056\n",
            "Batch 150/469 - Gen Loss: 0.8103, Disc Loss: 1.3047\n",
            "Batch 200/469 - Gen Loss: 0.8124, Disc Loss: 1.3046\n",
            "Batch 250/469 - Gen Loss: 0.8157, Disc Loss: 1.3057\n",
            "Batch 300/469 - Gen Loss: 0.8167, Disc Loss: 1.3047\n",
            "Batch 350/469 - Gen Loss: 0.8161, Disc Loss: 1.3052\n",
            "Batch 400/469 - Gen Loss: 0.8144, Disc Loss: 1.3064\n",
            "Batch 450/469 - Gen Loss: 0.8141, Disc Loss: 1.3061\n",
            "\n",
            "Epoch 34/50\n",
            "Batch 50/469 - Gen Loss: 0.8314, Disc Loss: 1.3079\n",
            "Batch 100/469 - Gen Loss: 0.8329, Disc Loss: 1.3046\n",
            "Batch 150/469 - Gen Loss: 0.8329, Disc Loss: 1.3033\n",
            "Batch 200/469 - Gen Loss: 0.8290, Disc Loss: 1.3041\n",
            "Batch 250/469 - Gen Loss: 0.8246, Disc Loss: 1.3039\n",
            "Batch 300/469 - Gen Loss: 0.8212, Disc Loss: 1.3059\n",
            "Batch 350/469 - Gen Loss: 0.8188, Disc Loss: 1.3059\n",
            "Batch 400/469 - Gen Loss: 0.8174, Disc Loss: 1.3063\n",
            "Batch 450/469 - Gen Loss: 0.8174, Disc Loss: 1.3054\n",
            "\n",
            "Epoch 35/50\n",
            "Batch 50/469 - Gen Loss: 0.8070, Disc Loss: 1.3138\n",
            "Batch 100/469 - Gen Loss: 0.8029, Disc Loss: 1.3141\n",
            "Batch 150/469 - Gen Loss: 0.8049, Disc Loss: 1.3118\n",
            "Batch 200/469 - Gen Loss: 0.8093, Disc Loss: 1.3118\n",
            "Batch 250/469 - Gen Loss: 0.8097, Disc Loss: 1.3111\n",
            "Batch 300/469 - Gen Loss: 0.8120, Disc Loss: 1.3095\n",
            "Batch 350/469 - Gen Loss: 0.8128, Disc Loss: 1.3099\n",
            "Batch 400/469 - Gen Loss: 0.8120, Disc Loss: 1.3095\n",
            "Batch 450/469 - Gen Loss: 0.8110, Disc Loss: 1.3095\n",
            "\n",
            "Epoch 36/50\n",
            "Batch 50/469 - Gen Loss: 0.8074, Disc Loss: 1.3130\n",
            "Batch 100/469 - Gen Loss: 0.8121, Disc Loss: 1.3116\n",
            "Batch 150/469 - Gen Loss: 0.8133, Disc Loss: 1.3100\n",
            "Batch 200/469 - Gen Loss: 0.8136, Disc Loss: 1.3076\n",
            "Batch 250/469 - Gen Loss: 0.8148, Disc Loss: 1.3066\n",
            "Batch 300/469 - Gen Loss: 0.8136, Disc Loss: 1.3063\n",
            "Batch 350/469 - Gen Loss: 0.8128, Disc Loss: 1.3068\n",
            "Batch 400/469 - Gen Loss: 0.8120, Disc Loss: 1.3077\n",
            "Batch 450/469 - Gen Loss: 0.8115, Disc Loss: 1.3082\n",
            "\n",
            "Epoch 37/50\n",
            "Batch 50/469 - Gen Loss: 0.8068, Disc Loss: 1.3052\n",
            "Batch 100/469 - Gen Loss: 0.8044, Disc Loss: 1.3100\n",
            "Batch 150/469 - Gen Loss: 0.8028, Disc Loss: 1.3118\n",
            "Batch 200/469 - Gen Loss: 0.8026, Disc Loss: 1.3122\n",
            "Batch 250/469 - Gen Loss: 0.8028, Disc Loss: 1.3122\n",
            "Batch 300/469 - Gen Loss: 0.8032, Disc Loss: 1.3127\n",
            "Batch 350/469 - Gen Loss: 0.8041, Disc Loss: 1.3122\n",
            "Batch 400/469 - Gen Loss: 0.8077, Disc Loss: 1.3129\n",
            "Batch 450/469 - Gen Loss: 0.8098, Disc Loss: 1.3122\n",
            "\n",
            "Epoch 38/50\n",
            "Batch 50/469 - Gen Loss: 0.8315, Disc Loss: 1.3039\n",
            "Batch 100/469 - Gen Loss: 0.8256, Disc Loss: 1.3042\n",
            "Batch 150/469 - Gen Loss: 0.8253, Disc Loss: 1.3054\n",
            "Batch 200/469 - Gen Loss: 0.8237, Disc Loss: 1.3067\n",
            "Batch 250/469 - Gen Loss: 0.8219, Disc Loss: 1.3071\n",
            "Batch 300/469 - Gen Loss: 0.8199, Disc Loss: 1.3073\n",
            "Batch 350/469 - Gen Loss: 0.8181, Disc Loss: 1.3066\n",
            "Batch 400/469 - Gen Loss: 0.8156, Disc Loss: 1.3073\n",
            "Batch 450/469 - Gen Loss: 0.8143, Disc Loss: 1.3077\n",
            "\n",
            "Epoch 39/50\n",
            "Batch 50/469 - Gen Loss: 0.8127, Disc Loss: 1.3180\n",
            "Batch 100/469 - Gen Loss: 0.8092, Disc Loss: 1.3127\n",
            "Batch 150/469 - Gen Loss: 0.8084, Disc Loss: 1.3108\n",
            "Batch 200/469 - Gen Loss: 0.8123, Disc Loss: 1.3112\n",
            "Batch 250/469 - Gen Loss: 0.8161, Disc Loss: 1.3092\n",
            "Batch 300/469 - Gen Loss: 0.8152, Disc Loss: 1.3096\n",
            "Batch 350/469 - Gen Loss: 0.8141, Disc Loss: 1.3096\n",
            "Batch 400/469 - Gen Loss: 0.8141, Disc Loss: 1.3091\n",
            "Batch 450/469 - Gen Loss: 0.8130, Disc Loss: 1.3093\n",
            "\n",
            "Epoch 40/50\n",
            "Batch 50/469 - Gen Loss: 0.8053, Disc Loss: 1.3084\n",
            "Batch 100/469 - Gen Loss: 0.8060, Disc Loss: 1.3108\n",
            "Batch 150/469 - Gen Loss: 0.8062, Disc Loss: 1.3115\n",
            "Batch 200/469 - Gen Loss: 0.8050, Disc Loss: 1.3135\n",
            "Batch 250/469 - Gen Loss: 0.8044, Disc Loss: 1.3135\n",
            "Batch 300/469 - Gen Loss: 0.8037, Disc Loss: 1.3149\n",
            "Batch 350/469 - Gen Loss: 0.8033, Disc Loss: 1.3151\n",
            "Batch 400/469 - Gen Loss: 0.8033, Disc Loss: 1.3147\n",
            "Batch 450/469 - Gen Loss: 0.8031, Disc Loss: 1.3149\n",
            "\n",
            "Epoch 41/50\n",
            "Batch 50/469 - Gen Loss: 0.8115, Disc Loss: 1.3070\n",
            "Batch 100/469 - Gen Loss: 0.8076, Disc Loss: 1.3113\n",
            "Batch 150/469 - Gen Loss: 0.8088, Disc Loss: 1.3105\n",
            "Batch 200/469 - Gen Loss: 0.8132, Disc Loss: 1.3099\n",
            "Batch 250/469 - Gen Loss: 0.8111, Disc Loss: 1.3107\n",
            "Batch 300/469 - Gen Loss: 0.8110, Disc Loss: 1.3106\n",
            "Batch 350/469 - Gen Loss: 0.8108, Disc Loss: 1.3112\n",
            "Batch 400/469 - Gen Loss: 0.8129, Disc Loss: 1.3104\n",
            "Batch 450/469 - Gen Loss: 0.8122, Disc Loss: 1.3109\n",
            "\n",
            "Epoch 42/50\n",
            "Batch 50/469 - Gen Loss: 0.8185, Disc Loss: 1.3102\n",
            "Batch 100/469 - Gen Loss: 0.8148, Disc Loss: 1.3135\n",
            "Batch 150/469 - Gen Loss: 0.8115, Disc Loss: 1.3129\n",
            "Batch 200/469 - Gen Loss: 0.8122, Disc Loss: 1.3128\n",
            "Batch 250/469 - Gen Loss: 0.8095, Disc Loss: 1.3134\n",
            "Batch 300/469 - Gen Loss: 0.8086, Disc Loss: 1.3133\n",
            "Batch 350/469 - Gen Loss: 0.8095, Disc Loss: 1.3120\n",
            "Batch 400/469 - Gen Loss: 0.8086, Disc Loss: 1.3124\n",
            "Batch 450/469 - Gen Loss: 0.8085, Disc Loss: 1.3111\n",
            "\n",
            "Epoch 43/50\n",
            "Batch 50/469 - Gen Loss: 0.7998, Disc Loss: 1.3140\n",
            "Batch 100/469 - Gen Loss: 0.8056, Disc Loss: 1.3124\n",
            "Batch 150/469 - Gen Loss: 0.8070, Disc Loss: 1.3109\n",
            "Batch 200/469 - Gen Loss: 0.8073, Disc Loss: 1.3103\n",
            "Batch 250/469 - Gen Loss: 0.8059, Disc Loss: 1.3118\n",
            "Batch 300/469 - Gen Loss: 0.8073, Disc Loss: 1.3131\n",
            "Batch 350/469 - Gen Loss: 0.8072, Disc Loss: 1.3132\n",
            "Batch 400/469 - Gen Loss: 0.8122, Disc Loss: 1.3132\n",
            "Batch 450/469 - Gen Loss: 0.8163, Disc Loss: 1.3122\n",
            "\n",
            "Epoch 44/50\n",
            "Batch 50/469 - Gen Loss: 0.8367, Disc Loss: 1.3060\n",
            "Batch 100/469 - Gen Loss: 0.8307, Disc Loss: 1.3028\n",
            "Batch 150/469 - Gen Loss: 0.8242, Disc Loss: 1.3061\n",
            "Batch 200/469 - Gen Loss: 0.8177, Disc Loss: 1.3084\n",
            "Batch 250/469 - Gen Loss: 0.8135, Disc Loss: 1.3091\n",
            "Batch 300/469 - Gen Loss: 0.8103, Disc Loss: 1.3100\n",
            "Batch 350/469 - Gen Loss: 0.8094, Disc Loss: 1.3104\n",
            "Batch 400/469 - Gen Loss: 0.8081, Disc Loss: 1.3109\n",
            "Batch 450/469 - Gen Loss: 0.8081, Disc Loss: 1.3105\n",
            "\n",
            "Epoch 45/50\n",
            "Batch 50/469 - Gen Loss: 0.7977, Disc Loss: 1.3178\n",
            "Batch 100/469 - Gen Loss: 0.8010, Disc Loss: 1.3122\n",
            "Batch 150/469 - Gen Loss: 0.8022, Disc Loss: 1.3125\n",
            "Batch 200/469 - Gen Loss: 0.8024, Disc Loss: 1.3139\n",
            "Batch 250/469 - Gen Loss: 0.8020, Disc Loss: 1.3142\n",
            "Batch 300/469 - Gen Loss: 0.8042, Disc Loss: 1.3140\n",
            "Batch 350/469 - Gen Loss: 0.8041, Disc Loss: 1.3139\n",
            "Batch 400/469 - Gen Loss: 0.8067, Disc Loss: 1.3127\n",
            "Batch 450/469 - Gen Loss: 0.8060, Disc Loss: 1.3129\n",
            "\n",
            "Epoch 46/50\n",
            "Batch 50/469 - Gen Loss: 0.8095, Disc Loss: 1.3101\n",
            "Batch 100/469 - Gen Loss: 0.8055, Disc Loss: 1.3104\n",
            "Batch 150/469 - Gen Loss: 0.8070, Disc Loss: 1.3114\n",
            "Batch 200/469 - Gen Loss: 0.8065, Disc Loss: 1.3123\n",
            "Batch 250/469 - Gen Loss: 0.8069, Disc Loss: 1.3115\n",
            "Batch 300/469 - Gen Loss: 0.8077, Disc Loss: 1.3126\n",
            "Batch 350/469 - Gen Loss: 0.8066, Disc Loss: 1.3140\n",
            "Batch 400/469 - Gen Loss: 0.8069, Disc Loss: 1.3146\n",
            "Batch 450/469 - Gen Loss: 0.8070, Disc Loss: 1.3140\n",
            "\n",
            "Epoch 47/50\n",
            "Batch 50/469 - Gen Loss: 0.8017, Disc Loss: 1.3154\n",
            "Batch 100/469 - Gen Loss: 0.8013, Disc Loss: 1.3176\n",
            "Batch 150/469 - Gen Loss: 0.8020, Disc Loss: 1.3148\n",
            "Batch 200/469 - Gen Loss: 0.8081, Disc Loss: 1.3147\n",
            "Batch 250/469 - Gen Loss: 0.8111, Disc Loss: 1.3123\n",
            "Batch 300/469 - Gen Loss: 0.8153, Disc Loss: 1.3126\n",
            "Batch 350/469 - Gen Loss: 0.8177, Disc Loss: 1.3115\n",
            "Batch 400/469 - Gen Loss: 0.8167, Disc Loss: 1.3110\n",
            "Batch 450/469 - Gen Loss: 0.8158, Disc Loss: 1.3105\n",
            "\n",
            "Epoch 48/50\n",
            "Batch 50/469 - Gen Loss: 0.8076, Disc Loss: 1.3066\n",
            "Batch 100/469 - Gen Loss: 0.8044, Disc Loss: 1.3112\n",
            "Batch 150/469 - Gen Loss: 0.8054, Disc Loss: 1.3122\n",
            "Batch 200/469 - Gen Loss: 0.8059, Disc Loss: 1.3132\n",
            "Batch 250/469 - Gen Loss: 0.8080, Disc Loss: 1.3124\n",
            "Batch 300/469 - Gen Loss: 0.8086, Disc Loss: 1.3139\n",
            "Batch 350/469 - Gen Loss: 0.8092, Disc Loss: 1.3134\n",
            "Batch 400/469 - Gen Loss: 0.8097, Disc Loss: 1.3135\n",
            "Batch 450/469 - Gen Loss: 0.8088, Disc Loss: 1.3137\n",
            "\n",
            "Epoch 49/50\n",
            "Batch 50/469 - Gen Loss: 0.8105, Disc Loss: 1.3077\n",
            "Batch 100/469 - Gen Loss: 0.8110, Disc Loss: 1.3119\n",
            "Batch 150/469 - Gen Loss: 0.8101, Disc Loss: 1.3123\n",
            "Batch 200/469 - Gen Loss: 0.8071, Disc Loss: 1.3146\n",
            "Batch 250/469 - Gen Loss: 0.8067, Disc Loss: 1.3145\n",
            "Batch 300/469 - Gen Loss: 0.8067, Disc Loss: 1.3136\n",
            "Batch 350/469 - Gen Loss: 0.8075, Disc Loss: 1.3134\n",
            "Batch 400/469 - Gen Loss: 0.8066, Disc Loss: 1.3133\n",
            "Batch 450/469 - Gen Loss: 0.8063, Disc Loss: 1.3132\n",
            "\n",
            "Epoch 50/50\n",
            "Batch 50/469 - Gen Loss: 0.8176, Disc Loss: 1.3038\n",
            "Batch 100/469 - Gen Loss: 0.8130, Disc Loss: 1.3078\n",
            "Batch 150/469 - Gen Loss: 0.8140, Disc Loss: 1.3091\n",
            "Batch 200/469 - Gen Loss: 0.8147, Disc Loss: 1.3106\n",
            "Batch 250/469 - Gen Loss: 0.8138, Disc Loss: 1.3110\n",
            "Batch 300/469 - Gen Loss: 0.8166, Disc Loss: 1.3106\n",
            "Batch 350/469 - Gen Loss: 0.8151, Disc Loss: 1.3116\n",
            "Batch 400/469 - Gen Loss: 0.8156, Disc Loss: 1.3111\n",
            "Batch 450/469 - Gen Loss: 0.8150, Disc Loss: 1.3113\n"
          ]
        }
      ]
    },
    {
      "cell_type": "markdown",
      "source": [
        "visualising images from generator"
      ],
      "metadata": {
        "id": "dEXfYpta9njO"
      }
    },
    {
      "cell_type": "code",
      "source": [
        "# Final generation and visualization\n",
        "generate_and_save_images(generator, EPOCHS, seed)"
      ],
      "metadata": {
        "colab": {
          "base_uri": "https://localhost:8080/",
          "height": 345
        },
        "id": "NtT873ao1PdZ",
        "outputId": "1c3a1b81-8bc9-4d4b-99b1-4ee33c038373"
      },
      "execution_count": 19,
      "outputs": [
        {
          "output_type": "display_data",
          "data": {
            "text/plain": [
              "<Figure size 400x400 with 16 Axes>"
            ],
            "image/png": "[encoded data removed]"
          },
          "metadata": {}
        }
      ]
    },
    {
      "cell_type": "markdown",
      "source": [
        "plotting losses"
      ],
      "metadata": {
        "id": "pTL0NiIr9iwb"
      }
    },
    {
      "cell_type": "code",
      "source": [
        "# Plot losses\n",
        "plt.figure(figsize=(10, 5))\n",
        "plt.plot(gen_losses, label='Generator Loss')\n",
        "plt.plot(disc_losses, label='Discriminator Loss')\n",
        "plt.xlabel('Epoch')\n",
        "plt.ylabel('Loss')\n",
        "plt.legend()\n",
        "plt.show()"
      ],
      "metadata": {
        "colab": {
          "base_uri": "https://localhost:8080/",
          "height": 465
        },
        "id": "LDuhlOE00vCN",
        "outputId": "9ae72be8-3e1a-4fc8-a9ff-70e55f963699"
      },
      "execution_count": 20,
      "outputs": [
        {
          "output_type": "display_data",
          "data": {
            "text/plain": [
              "<Figure size 1000x500 with 1 Axes>"
            ],
            "image/png": "[encoded data removed]"
          },
          "metadata": {}
        }
      ]
    },
    {
      "cell_type": "markdown",
      "source": [
        "minimum losses"
      ],
      "metadata": {
        "id": "4znaKamx-HX1"
      }
    },
    {
      "cell_type": "code",
      "source": [
        "print(f\"minimum loss for generator is {min(gen_losses)}\")\n",
        "print(f\"minimum loss for discriminator is {min(disc_losses)}\")"
      ],
      "metadata": {
        "colab": {
          "base_uri": "https://localhost:8080/"
        },
        "id": "cCRwGB-y94PX",
        "outputId": "230e36d2-2d1e-48c9-a8b3-85ced766c3b5"
      },
      "execution_count": 21,
      "outputs": [
        {
          "output_type": "stream",
          "name": "stdout",
          "text": [
            "minimum loss for generator is 0.7004441618919373\n",
            "minimum loss for discriminator is 1.2633113861083984\n"
          ]
        }
      ]
    }
  ]
}