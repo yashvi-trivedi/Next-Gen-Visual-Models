{
  "nbformat": 4,
  "nbformat_minor": 0,
  "metadata": {
    "colab": {
      "provenance": []
    },
    "kernelspec": {
      "name": "python3",
      "display_name": "Python 3"
    },
    "language_info": {
      "name": "python"
    }
  },
  "cells": [
    {
      "cell_type": "code",
      "source": [
        "import numpy as np\n",
        "import torch\n",
        "import torch.nn as nn\n",
        "import torch.optim as optim\n",
        "import torchvision\n",
        "import torchvision.transforms as transforms\n",
        "from torch.utils.data import DataLoader\n",
        "from sklearn.metrics import accuracy_score, precision_score, recall_score, f1_score, confusion_matrix\n",
        "import seaborn as sns\n",
        "import matplotlib.pyplot as plt\n",
        "import torchvision.datasets as datasets\n",
        "import tensorflow as tf\n"
      ],
      "metadata": {
        "id": "gjEWWS-lW_Yf"
      },
      "execution_count": 1,
      "outputs": []
    },
    {
      "cell_type": "code",
      "execution_count": 13,
      "metadata": {
        "id": "34EW495cWl1X"
      },
      "outputs": [],
      "source": [
        "class_names = ['T-shirt/top',\n",
        "               'Trouser',\n",
        "               'Pullover',\n",
        "               'Dress',\n",
        "               'Coat',\n",
        "               'Sandal',\n",
        "               'Shirt',\n",
        "               'Sneaker',\n",
        "               'Bag',\n",
        "               'Ankle boot']"
      ]
    },
    {
      "cell_type": "markdown",
      "source": [
        "# **training the cnn**"
      ],
      "metadata": {
        "id": "FPwtm_eN43QZ"
      }
    },
    {
      "cell_type": "code",
      "source": [
        "# Set device (GPU if available, else CPU)\n",
        "device = torch.device('cuda' if torch.cuda.is_available() else 'cpu')\n",
        "\n",
        "transform = transforms.Compose([\n",
        "    transforms.ToTensor(),\n",
        "    transforms.Normalize((0.5,), (0.5,))  # Normalize the dataset for a single channel\n",
        "])"
      ],
      "metadata": {
        "id": "AAn2CfdDY07G"
      },
      "execution_count": 2,
      "outputs": []
    },
    {
      "cell_type": "code",
      "source": [
        "train_dataset = torchvision.datasets.FashionMNIST(root='./data', train=True, download=True, transform=transform)\n",
        "test_dataset = torchvision.datasets.FashionMNIST(root='./data', train=False, download=True, transform=transform)\n",
        "\n",
        "train_loader = DataLoader(dataset=train_dataset, batch_size=49, shuffle=True)\n",
        "test_loader = DataLoader(dataset=test_dataset, batch_size=49, shuffle=False)"
      ],
      "metadata": {
        "colab": {
          "base_uri": "https://localhost:8080/"
        },
        "id": "f5ZEc2zmZhCt",
        "outputId": "da8dd32f-bca5-424f-de11-b5c31c10981e"
      },
      "execution_count": 3,
      "outputs": [
        {
          "output_type": "stream",
          "name": "stdout",
          "text": [
            "Downloading http://fashion-mnist.s3-website.eu-central-1.amazonaws.com/train-images-idx3-ubyte.gz\n",
            "Downloading http://fashion-mnist.s3-website.eu-central-1.amazonaws.com/train-images-idx3-ubyte.gz to ./data/FashionMNIST/raw/train-images-idx3-ubyte.gz\n"
          ]
        },
        {
          "output_type": "stream",
          "name": "stderr",
          "text": [
            "100%|██████████| 26.4M/26.4M [00:00<00:00, 116MB/s]\n"
          ]
        },
        {
          "output_type": "stream",
          "name": "stdout",
          "text": [
            "Extracting ./data/FashionMNIST/raw/train-images-idx3-ubyte.gz to ./data/FashionMNIST/raw\n",
            "\n",
            "Downloading http://fashion-mnist.s3-website.eu-central-1.amazonaws.com/train-labels-idx1-ubyte.gz\n",
            "Downloading http://fashion-mnist.s3-website.eu-central-1.amazonaws.com/train-labels-idx1-ubyte.gz to ./data/FashionMNIST/raw/train-labels-idx1-ubyte.gz\n"
          ]
        },
        {
          "output_type": "stream",
          "name": "stderr",
          "text": [
            "100%|██████████| 29.5k/29.5k [00:00<00:00, 6.77MB/s]"
          ]
        },
        {
          "output_type": "stream",
          "name": "stdout",
          "text": [
            "Extracting ./data/FashionMNIST/raw/train-labels-idx1-ubyte.gz to ./data/FashionMNIST/raw\n",
            "\n",
            "Downloading http://fashion-mnist.s3-website.eu-central-1.amazonaws.com/t10k-images-idx3-ubyte.gz\n",
            "Downloading http://fashion-mnist.s3-website.eu-central-1.amazonaws.com/t10k-images-idx3-ubyte.gz to ./data/FashionMNIST/raw/t10k-images-idx3-ubyte.gz\n"
          ]
        },
        {
          "output_type": "stream",
          "name": "stderr",
          "text": [
            "\n",
            "100%|██████████| 4.42M/4.42M [00:00<00:00, 54.2MB/s]\n"
          ]
        },
        {
          "output_type": "stream",
          "name": "stdout",
          "text": [
            "Extracting ./data/FashionMNIST/raw/t10k-images-idx3-ubyte.gz to ./data/FashionMNIST/raw\n",
            "\n",
            "Downloading http://fashion-mnist.s3-website.eu-central-1.amazonaws.com/t10k-labels-idx1-ubyte.gz\n",
            "Downloading http://fashion-mnist.s3-website.eu-central-1.amazonaws.com/t10k-labels-idx1-ubyte.gz to ./data/FashionMNIST/raw/t10k-labels-idx1-ubyte.gz\n"
          ]
        },
        {
          "output_type": "stream",
          "name": "stderr",
          "text": [
            "100%|██████████| 5.15k/5.15k [00:00<00:00, 16.6MB/s]\n"
          ]
        },
        {
          "output_type": "stream",
          "name": "stdout",
          "text": [
            "Extracting ./data/FashionMNIST/raw/t10k-labels-idx1-ubyte.gz to ./data/FashionMNIST/raw\n",
            "\n"
          ]
        }
      ]
    },
    {
      "cell_type": "code",
      "source": [
        "class CNN(nn.Module):\n",
        "    def __init__(self):\n",
        "        super(CNN, self).__init__()\n",
        "        # Define the CNN layers (Conv2D, MaxPool, Fully Connected)\n",
        "        self.conv1 = nn.Conv2d(1, 32, kernel_size=3, padding=1)\n",
        "        self.pool = nn.MaxPool2d(2, 2)\n",
        "        self.conv2 = nn.Conv2d(32, 64, kernel_size=3, padding=1)\n",
        "        self.fc1 = nn.Linear(64*7*7, 512)\n",
        "        self.fc2 = nn.Linear(512, 10)  # Output layer for 10 classes\n",
        "\n",
        "    def forward(self, x):\n",
        "        x = self.pool(torch.relu(self.conv1(x)))  # First conv layer + relu activation + pool\n",
        "        x = self.pool(torch.relu(self.conv2(x)))  # Second conv layer + relu activation + pool\n",
        "        x = x.view(-1, 64*7*7)  # Flatten the tensor\n",
        "        x = torch.relu(self.fc1(x))  # Fully connected layer + relu activation\n",
        "        x = self.fc2(x)  # Output layer\n",
        "        return x"
      ],
      "metadata": {
        "id": "fh7dGMkk90op"
      },
      "execution_count": 7,
      "outputs": []
    },
    {
      "cell_type": "code",
      "source": [
        "# Initialize the CNN model, loss function, and optimizer\n",
        "model_cnn = CNN().to(device)\n",
        "criterion = nn.CrossEntropyLoss()\n",
        "optimizer = optim.Adam(model_cnn.parameters(), lr=0.001)"
      ],
      "metadata": {
        "id": "PT44fE9xY6It"
      },
      "execution_count": 8,
      "outputs": []
    },
    {
      "cell_type": "code",
      "source": [
        "# Training loop\n",
        "num_epochs = 5\n",
        "for epoch in range(num_epochs):\n",
        "    for i, (images, labels) in enumerate(train_loader):\n",
        "        # Move images and labels to the device\n",
        "        images = images.to(device)\n",
        "        labels = labels.to(device)\n",
        "\n",
        "        # Forward pass\n",
        "        outputs = model_cnn(images)\n",
        "        loss = criterion(outputs, labels)\n",
        "\n",
        "        # Backward pass and optimization\n",
        "        optimizer.zero_grad()\n",
        "        loss.backward()\n",
        "        optimizer.step()\n",
        "\n",
        "        if (i+1) % 100 == 0:\n",
        "            print(f'Epoch [{epoch+1}/{num_epochs}], Step [{i+1}/{len(train_loader)}], Loss: {loss.item():.4f}')"
      ],
      "metadata": {
        "colab": {
          "base_uri": "https://localhost:8080/"
        },
        "collapsed": true,
        "id": "p0c6IDKhY5rN",
        "outputId": "f50611b2-6b7b-49df-e2b7-979b26ee8df4"
      },
      "execution_count": 9,
      "outputs": [
        {
          "output_type": "stream",
          "name": "stdout",
          "text": [
            "Epoch [1/5], Step [100/1225], Loss: 0.4277\n",
            "Epoch [1/5], Step [200/1225], Loss: 0.2836\n",
            "Epoch [1/5], Step [300/1225], Loss: 0.4725\n",
            "Epoch [1/5], Step [400/1225], Loss: 0.3597\n",
            "Epoch [1/5], Step [500/1225], Loss: 0.6038\n",
            "Epoch [1/5], Step [600/1225], Loss: 0.3294\n",
            "Epoch [1/5], Step [700/1225], Loss: 0.2004\n",
            "Epoch [1/5], Step [800/1225], Loss: 0.3491\n",
            "Epoch [1/5], Step [900/1225], Loss: 0.4297\n",
            "Epoch [1/5], Step [1000/1225], Loss: 0.2175\n",
            "Epoch [1/5], Step [1100/1225], Loss: 0.1419\n",
            "Epoch [1/5], Step [1200/1225], Loss: 0.1868\n",
            "Epoch [2/5], Step [100/1225], Loss: 0.3474\n",
            "Epoch [2/5], Step [200/1225], Loss: 0.1863\n",
            "Epoch [2/5], Step [300/1225], Loss: 0.3557\n",
            "Epoch [2/5], Step [400/1225], Loss: 0.1773\n",
            "Epoch [2/5], Step [500/1225], Loss: 0.2048\n",
            "Epoch [2/5], Step [600/1225], Loss: 0.1644\n",
            "Epoch [2/5], Step [700/1225], Loss: 0.3793\n",
            "Epoch [2/5], Step [800/1225], Loss: 0.6231\n",
            "Epoch [2/5], Step [900/1225], Loss: 0.2723\n",
            "Epoch [2/5], Step [1000/1225], Loss: 0.2428\n",
            "Epoch [2/5], Step [1100/1225], Loss: 0.2806\n",
            "Epoch [2/5], Step [1200/1225], Loss: 0.2447\n",
            "Epoch [3/5], Step [100/1225], Loss: 0.0716\n",
            "Epoch [3/5], Step [200/1225], Loss: 0.2245\n",
            "Epoch [3/5], Step [300/1225], Loss: 0.1355\n",
            "Epoch [3/5], Step [400/1225], Loss: 0.4107\n",
            "Epoch [3/5], Step [500/1225], Loss: 0.1025\n",
            "Epoch [3/5], Step [600/1225], Loss: 0.1314\n",
            "Epoch [3/5], Step [700/1225], Loss: 0.1613\n",
            "Epoch [3/5], Step [800/1225], Loss: 0.1749\n",
            "Epoch [3/5], Step [900/1225], Loss: 0.2256\n",
            "Epoch [3/5], Step [1000/1225], Loss: 0.2595\n",
            "Epoch [3/5], Step [1100/1225], Loss: 0.1102\n",
            "Epoch [3/5], Step [1200/1225], Loss: 0.1239\n",
            "Epoch [4/5], Step [100/1225], Loss: 0.0741\n",
            "Epoch [4/5], Step [200/1225], Loss: 0.0478\n",
            "Epoch [4/5], Step [300/1225], Loss: 0.0688\n",
            "Epoch [4/5], Step [400/1225], Loss: 0.1072\n",
            "Epoch [4/5], Step [500/1225], Loss: 0.0744\n",
            "Epoch [4/5], Step [600/1225], Loss: 0.1685\n",
            "Epoch [4/5], Step [700/1225], Loss: 0.1106\n",
            "Epoch [4/5], Step [800/1225], Loss: 0.1745\n",
            "Epoch [4/5], Step [900/1225], Loss: 0.1856\n",
            "Epoch [4/5], Step [1000/1225], Loss: 0.1628\n",
            "Epoch [4/5], Step [1100/1225], Loss: 0.2540\n",
            "Epoch [4/5], Step [1200/1225], Loss: 0.1501\n",
            "Epoch [5/5], Step [100/1225], Loss: 0.0687\n",
            "Epoch [5/5], Step [200/1225], Loss: 0.0779\n",
            "Epoch [5/5], Step [300/1225], Loss: 0.0407\n",
            "Epoch [5/5], Step [400/1225], Loss: 0.0447\n",
            "Epoch [5/5], Step [500/1225], Loss: 0.1389\n",
            "Epoch [5/5], Step [600/1225], Loss: 0.1307\n",
            "Epoch [5/5], Step [700/1225], Loss: 0.1197\n",
            "Epoch [5/5], Step [800/1225], Loss: 0.1754\n",
            "Epoch [5/5], Step [900/1225], Loss: 0.1528\n",
            "Epoch [5/5], Step [1000/1225], Loss: 0.0824\n",
            "Epoch [5/5], Step [1100/1225], Loss: 0.2586\n",
            "Epoch [5/5], Step [1200/1225], Loss: 0.1127\n"
          ]
        }
      ]
    },
    {
      "cell_type": "code",
      "source": [
        "# Test the CNN model\n",
        "model_cnn.eval()\n",
        "all_preds_cnn = []\n",
        "all_labels_cnn = []\n",
        "\n",
        "with torch.no_grad():\n",
        "    for images, labels in test_loader:\n",
        "        # Move images and labels to the device\n",
        "        images = images.to(device)\n",
        "        labels = labels.to(device)\n",
        "\n",
        "        outputs = model_cnn(images)  # forward pass through the CNN\n",
        "        _, predicted = torch.max(outputs.data, 1)\n",
        "        all_preds_cnn.extend(predicted.cpu().numpy())\n",
        "        all_labels_cnn.extend(labels.cpu().numpy())\n",
        "\n",
        "# Calculate accuracy, precision, recall, and F1-score for the CNN\n",
        "accuracy_cnn = accuracy_score(all_labels_cnn, all_preds_cnn)  # with the correct calculation\n",
        "precision_cnn = precision_score(all_labels_cnn, all_preds_cnn, average='weighted')\n",
        "recall_cnn = recall_score(all_labels_cnn, all_preds_cnn, average='weighted')\n",
        "f1_cnn = f1_score(all_labels_cnn, all_preds_cnn, average='weighted')\n",
        "\n",
        "print(f\"CNN Accuracy: {accuracy_cnn:.4f}\")\n",
        "print(f\"CNN Precision: {precision_cnn:.4f}\")\n",
        "print(f\"CNN Recall: {recall_cnn:.4f}\")\n",
        "print(f\"CNN F1-Score: {f1_cnn:.4f}\")"
      ],
      "metadata": {
        "colab": {
          "base_uri": "https://localhost:8080/"
        },
        "id": "6KsRqfwPZIY2",
        "outputId": "a3e20309-32da-4f7b-86e3-98c6b27df13e"
      },
      "execution_count": 11,
      "outputs": [
        {
          "output_type": "stream",
          "name": "stdout",
          "text": [
            "CNN Accuracy: 0.9112\n",
            "CNN Precision: 0.9141\n",
            "CNN Recall: 0.9112\n",
            "CNN F1-Score: 0.9116\n"
          ]
        }
      ]
    },
    {
      "cell_type": "code",
      "source": [
        "# Set the model to evaluation mode\n",
        "model_cnn.eval()\n",
        "\n",
        "# Initialize lists to store true and predicted labels\n",
        "y_true = []\n",
        "y_pred = []\n",
        "\n",
        "# Iterate over the test data\n",
        "with torch.no_grad():  # Disable gradient calculations during inference\n",
        "    for images, labels in test_loader:\n",
        "        images = images.to(device)\n",
        "        labels = labels.to(device)\n",
        "        outputs = model_cnn(images)\n",
        "        _, predicted = torch.max(outputs.data, 1)\n",
        "        y_true.extend(labels.cpu().numpy())  # Add true labels to the list\n",
        "        y_pred.extend(predicted.cpu().numpy())  # Add predicted labels to the list\n",
        "\n",
        "# Compute confusion matrix\n",
        "cm = confusion_matrix(y_true, y_pred)\n",
        "\n",
        "# Plot confusion matrix\n",
        "plt.figure(figsize=(10, 8))\n",
        "sns.heatmap(cm, annot=True, fmt='d', cmap='Reds',\n",
        "            xticklabels=class_names, yticklabels=class_names)\n",
        "plt.xlabel('Predicted labels')\n",
        "plt.ylabel('True labels')\n",
        "plt.title('Confusion Matrix for CNN')\n",
        "plt.show()"
      ],
      "metadata": {
        "colab": {
          "base_uri": "https://localhost:8080/",
          "height": 718
        },
        "id": "ZSzqbjPJ3Jbx",
        "outputId": "3e4f8e72-d4c0-4312-ef46-489a4f354183"
      },
      "execution_count": 14,
      "outputs": [
        {
          "output_type": "display_data",
          "data": {
            "text/plain": [
              "<Figure size 1000x800 with 2 Axes>"
            ],
            "image/png": "[encoded data removed]"
          },
          "metadata": {}
        }
      ]
    },
    {
      "cell_type": "markdown",
      "source": [
        "# **comparison**"
      ],
      "metadata": {
        "id": "GRpyXvRt46sm"
      }
    },
    {
      "cell_type": "code",
      "source": [
        "from keras import layers, models"
      ],
      "metadata": {
        "id": "eVtIAy6M-B3J"
      },
      "execution_count": 22,
      "outputs": []
    },
    {
      "cell_type": "code",
      "source": [
        "def mlp1(input_shape):\n",
        "  model = models.Sequential(name='MLP1')\n",
        "  model.add(layers.Flatten(input_shape=input_shape))\n",
        "  model.add(layers.Dropout(0.20))\n",
        "  model.add(layers.Dense(512, activation = 'relu', use_bias = True, kernel_initializer = 'he_uniform'))\n",
        "  model.add(layers.Dropout(0.10))\n",
        "  model.add(layers.Dense(10, activation = 'softmax', use_bias = True, kernel_initializer = 'he_uniform'))\n",
        "  return model\n",
        "\n",
        "def mlp2(input_shape):\n",
        "  model = models.Sequential(name='MLP2')\n",
        "  model.add(layers.Flatten(input_shape=input_shape))\n",
        "  model.add(layers.Dropout(0.20))\n",
        "  model.add(layers.Dense(512, activation = 'relu', use_bias = True, kernel_initializer = 'he_uniform'))\n",
        "  model.add(layers.Dropout(0.20))\n",
        "  model.add(layers.Dense(256, activation = 'relu', use_bias = True, kernel_initializer = 'he_uniform'))\n",
        "  model.add(layers.Dropout(0.10))\n",
        "  model.add(layers.Dense(10, activation = 'softmax', use_bias = True, kernel_initializer = 'he_uniform'))\n",
        "  return model\n",
        "\n",
        "def mlp3(input_shape):\n",
        "  model = models.Sequential(name='MLP3')\n",
        "  model.add(layers.Flatten(input_shape=input_shape))\n",
        "  model.add(layers.Dropout(0.20))\n",
        "  model.add(layers.Dense(512, activation = 'relu', use_bias = True, kernel_initializer = 'he_uniform'))\n",
        "  model.add(layers.Dropout(0.20))\n",
        "  model.add(layers.Dense(256, activation = 'relu', use_bias = True, kernel_initializer = 'he_uniform'))\n",
        "  model.add(layers.Dropout(0.10))\n",
        "  model.add(layers.Dense(128, activation = 'relu', use_bias = True, kernel_initializer = 'he_uniform'))\n",
        "  model.add(layers.Dropout(0.10))\n",
        "  model.add(layers.Dense(10, activation = 'softmax', use_bias = True, kernel_initializer = 'he_uniform'))\n",
        "  return model"
      ],
      "metadata": {
        "id": "JF9_wz8A93N3"
      },
      "execution_count": 24,
      "outputs": []
    },
    {
      "cell_type": "code",
      "source": [
        "# Load the FashionMNIST dataset\n",
        "train_dataset = datasets.FashionMNIST(root='./data', train=True, download=True)\n",
        "test_dataset = datasets.FashionMNIST(root='./data', train=False, download=True)\n",
        "\n",
        "# Access the training and testing data\n",
        "X_train = train_dataset.data.numpy()  # Convert to NumPy array\n",
        "y_train = train_dataset.targets.numpy()\n",
        "X_test = test_dataset.data.numpy()\n",
        "y_test = test_dataset.targets.numpy()\n",
        "\n",
        "\n",
        "# Normalize the data\n",
        "X_train = X_train / 255.0\n",
        "X_test = X_test / 255.0"
      ],
      "metadata": {
        "id": "gI3SGmoM_Ne2"
      },
      "execution_count": 28,
      "outputs": []
    },
    {
      "cell_type": "code",
      "source": [
        "input_shape = (28, 28, 1)  # Input shape for FashionMNIST images\n",
        "model_mlp1 = mlp1(input_shape)\n",
        "\n",
        "model_mlp1.compile(optimizer='adam',\n",
        "              loss='sparse_categorical_crossentropy',\n",
        "              metrics=['accuracy'])\n",
        "\n",
        "\n",
        "history1 = model_mlp1.fit(X_train, y_train, epochs=20, validation_split=0.2, batch_size = 512)\n",
        "\n"
      ],
      "metadata": {
        "colab": {
          "base_uri": "https://localhost:8080/"
        },
        "collapsed": true,
        "id": "gtmAzBgV93IE",
        "outputId": "7e370030-aec9-4013-d407-fd650c92c1b9"
      },
      "execution_count": 32,
      "outputs": [
        {
          "output_type": "stream",
          "name": "stderr",
          "text": [
            "/usr/local/lib/python3.10/dist-packages/keras/src/layers/reshaping/flatten.py:37: UserWarning: Do not pass an `input_shape`/`input_dim` argument to a layer. When using Sequential models, prefer using an `Input(shape)` object as the first layer in the model instead.\n",
            "  super().__init__(**kwargs)\n"
          ]
        },
        {
          "output_type": "stream",
          "name": "stdout",
          "text": [
            "Epoch 1/20\n",
            "\u001b[1m94/94\u001b[0m \u001b[32m━━━━━━━━━━━━━━━━━━━━\u001b[0m\u001b[37m\u001b[0m \u001b[1m6s\u001b[0m 44ms/step - accuracy: 0.6518 - loss: 0.9899 - val_accuracy: 0.8293 - val_loss: 0.4913\n",
            "Epoch 2/20\n",
            "\u001b[1m94/94\u001b[0m \u001b[32m━━━━━━━━━━━━━━━━━━━━\u001b[0m\u001b[37m\u001b[0m \u001b[1m5s\u001b[0m 48ms/step - accuracy: 0.8213 - loss: 0.5083 - val_accuracy: 0.8532 - val_loss: 0.4234\n",
            "Epoch 3/20\n",
            "\u001b[1m94/94\u001b[0m \u001b[32m━━━━━━━━━━━━━━━━━━━━\u001b[0m\u001b[37m\u001b[0m \u001b[1m3s\u001b[0m 32ms/step - accuracy: 0.8406 - loss: 0.4540 - val_accuracy: 0.8622 - val_loss: 0.3924\n",
            "Epoch 4/20\n",
            "\u001b[1m94/94\u001b[0m \u001b[32m━━━━━━━━━━━━━━━━━━━━\u001b[0m\u001b[37m\u001b[0m \u001b[1m3s\u001b[0m 31ms/step - accuracy: 0.8527 - loss: 0.4165 - val_accuracy: 0.8615 - val_loss: 0.3914\n",
            "Epoch 5/20\n",
            "\u001b[1m94/94\u001b[0m \u001b[32m━━━━━━━━━━━━━━━━━━━━\u001b[0m\u001b[37m\u001b[0m \u001b[1m3s\u001b[0m 31ms/step - accuracy: 0.8580 - loss: 0.3942 - val_accuracy: 0.8696 - val_loss: 0.3738\n",
            "Epoch 6/20\n",
            "\u001b[1m94/94\u001b[0m \u001b[32m━━━━━━━━━━━━━━━━━━━━\u001b[0m\u001b[37m\u001b[0m \u001b[1m4s\u001b[0m 41ms/step - accuracy: 0.8649 - loss: 0.3764 - val_accuracy: 0.8715 - val_loss: 0.3609\n",
            "Epoch 7/20\n",
            "\u001b[1m94/94\u001b[0m \u001b[32m━━━━━━━━━━━━━━━━━━━━\u001b[0m\u001b[37m\u001b[0m \u001b[1m4s\u001b[0m 32ms/step - accuracy: 0.8663 - loss: 0.3686 - val_accuracy: 0.8783 - val_loss: 0.3435\n",
            "Epoch 8/20\n",
            "\u001b[1m94/94\u001b[0m \u001b[32m━━━━━━━━━━━━━━━━━━━━\u001b[0m\u001b[37m\u001b[0m \u001b[1m3s\u001b[0m 31ms/step - accuracy: 0.8713 - loss: 0.3521 - val_accuracy: 0.8796 - val_loss: 0.3396\n",
            "Epoch 9/20\n",
            "\u001b[1m94/94\u001b[0m \u001b[32m━━━━━━━━━━━━━━━━━━━━\u001b[0m\u001b[37m\u001b[0m \u001b[1m3s\u001b[0m 31ms/step - accuracy: 0.8738 - loss: 0.3466 - val_accuracy: 0.8773 - val_loss: 0.3384\n",
            "Epoch 10/20\n",
            "\u001b[1m94/94\u001b[0m \u001b[32m━━━━━━━━━━━━━━━━━━━━\u001b[0m\u001b[37m\u001b[0m \u001b[1m6s\u001b[0m 38ms/step - accuracy: 0.8765 - loss: 0.3354 - val_accuracy: 0.8847 - val_loss: 0.3243\n",
            "Epoch 11/20\n",
            "\u001b[1m94/94\u001b[0m \u001b[32m━━━━━━━━━━━━━━━━━━━━\u001b[0m\u001b[37m\u001b[0m \u001b[1m4s\u001b[0m 31ms/step - accuracy: 0.8836 - loss: 0.3171 - val_accuracy: 0.8845 - val_loss: 0.3202\n",
            "Epoch 12/20\n",
            "\u001b[1m94/94\u001b[0m \u001b[32m━━━━━━━━━━━━━━━━━━━━\u001b[0m\u001b[37m\u001b[0m \u001b[1m3s\u001b[0m 31ms/step - accuracy: 0.8842 - loss: 0.3155 - val_accuracy: 0.8806 - val_loss: 0.3251\n",
            "Epoch 13/20\n",
            "\u001b[1m94/94\u001b[0m \u001b[32m━━━━━━━━━━━━━━━━━━━━\u001b[0m\u001b[37m\u001b[0m \u001b[1m6s\u001b[0m 39ms/step - accuracy: 0.8863 - loss: 0.3097 - val_accuracy: 0.8863 - val_loss: 0.3157\n",
            "Epoch 14/20\n",
            "\u001b[1m94/94\u001b[0m \u001b[32m━━━━━━━━━━━━━━━━━━━━\u001b[0m\u001b[37m\u001b[0m \u001b[1m4s\u001b[0m 31ms/step - accuracy: 0.8824 - loss: 0.3116 - val_accuracy: 0.8898 - val_loss: 0.3090\n",
            "Epoch 15/20\n",
            "\u001b[1m94/94\u001b[0m \u001b[32m━━━━━━━━━━━━━━━━━━━━\u001b[0m\u001b[37m\u001b[0m \u001b[1m6s\u001b[0m 40ms/step - accuracy: 0.8867 - loss: 0.2994 - val_accuracy: 0.8865 - val_loss: 0.3116\n",
            "Epoch 16/20\n",
            "\u001b[1m94/94\u001b[0m \u001b[32m━━━━━━━━━━━━━━━━━━━━\u001b[0m\u001b[37m\u001b[0m \u001b[1m4s\u001b[0m 31ms/step - accuracy: 0.8939 - loss: 0.2938 - val_accuracy: 0.8892 - val_loss: 0.3065\n",
            "Epoch 17/20\n",
            "\u001b[1m94/94\u001b[0m \u001b[32m━━━━━━━━━━━━━━━━━━━━\u001b[0m\u001b[37m\u001b[0m \u001b[1m5s\u001b[0m 31ms/step - accuracy: 0.8966 - loss: 0.2829 - val_accuracy: 0.8883 - val_loss: 0.3068\n",
            "Epoch 18/20\n",
            "\u001b[1m94/94\u001b[0m \u001b[32m━━━━━━━━━━━━━━━━━━━━\u001b[0m\u001b[37m\u001b[0m \u001b[1m6s\u001b[0m 43ms/step - accuracy: 0.8953 - loss: 0.2848 - val_accuracy: 0.8856 - val_loss: 0.3116\n",
            "Epoch 19/20\n",
            "\u001b[1m94/94\u001b[0m \u001b[32m━━━━━━━━━━━━━━━━━━━━\u001b[0m\u001b[37m\u001b[0m \u001b[1m3s\u001b[0m 31ms/step - accuracy: 0.8945 - loss: 0.2855 - val_accuracy: 0.8892 - val_loss: 0.3032\n",
            "Epoch 20/20\n",
            "\u001b[1m94/94\u001b[0m \u001b[32m━━━━━━━━━━━━━━━━━━━━\u001b[0m\u001b[37m\u001b[0m \u001b[1m5s\u001b[0m 31ms/step - accuracy: 0.8949 - loss: 0.2797 - val_accuracy: 0.8906 - val_loss: 0.3014\n"
          ]
        }
      ]
    },
    {
      "cell_type": "code",
      "source": [
        "input_shape = (28, 28, 1)  # Input shape for FashionMNIST images\n",
        "model_mlp2 = mlp2(input_shape)\n",
        "\n",
        "model_mlp2.compile(optimizer='adam',\n",
        "              loss='sparse_categorical_crossentropy',\n",
        "              metrics=['accuracy'])\n",
        "\n",
        "\n",
        "history1 = model_mlp2.fit(X_train, y_train, epochs=20, validation_split=0.2, batch_size = 512)\n",
        "\n"
      ],
      "metadata": {
        "colab": {
          "base_uri": "https://localhost:8080/"
        },
        "id": "SnEijYDv93FB",
        "outputId": "218b5450-319b-4894-8e7a-340854d337e3"
      },
      "execution_count": 33,
      "outputs": [
        {
          "output_type": "stream",
          "name": "stderr",
          "text": [
            "/usr/local/lib/python3.10/dist-packages/keras/src/layers/reshaping/flatten.py:37: UserWarning: Do not pass an `input_shape`/`input_dim` argument to a layer. When using Sequential models, prefer using an `Input(shape)` object as the first layer in the model instead.\n",
            "  super().__init__(**kwargs)\n"
          ]
        },
        {
          "output_type": "stream",
          "name": "stdout",
          "text": [
            "Epoch 1/20\n",
            "\u001b[1m94/94\u001b[0m \u001b[32m━━━━━━━━━━━━━━━━━━━━\u001b[0m\u001b[37m\u001b[0m \u001b[1m7s\u001b[0m 43ms/step - accuracy: 0.6508 - loss: 0.9873 - val_accuracy: 0.8348 - val_loss: 0.4672\n",
            "Epoch 2/20\n",
            "\u001b[1m94/94\u001b[0m \u001b[32m━━━━━━━━━━━━━━━━━━━━\u001b[0m\u001b[37m\u001b[0m \u001b[1m4s\u001b[0m 41ms/step - accuracy: 0.8262 - loss: 0.4859 - val_accuracy: 0.8491 - val_loss: 0.4170\n",
            "Epoch 3/20\n",
            "\u001b[1m94/94\u001b[0m \u001b[32m━━━━━━━━━━━━━━━━━━━━\u001b[0m\u001b[37m\u001b[0m \u001b[1m7s\u001b[0m 61ms/step - accuracy: 0.8408 - loss: 0.4348 - val_accuracy: 0.8622 - val_loss: 0.3809\n",
            "Epoch 4/20\n",
            "\u001b[1m94/94\u001b[0m \u001b[32m━━━━━━━━━━━━━━━━━━━━\u001b[0m\u001b[37m\u001b[0m \u001b[1m8s\u001b[0m 41ms/step - accuracy: 0.8520 - loss: 0.4068 - val_accuracy: 0.8673 - val_loss: 0.3626\n",
            "Epoch 5/20\n",
            "\u001b[1m94/94\u001b[0m \u001b[32m━━━━━━━━━━━━━━━━━━━━\u001b[0m\u001b[37m\u001b[0m \u001b[1m7s\u001b[0m 55ms/step - accuracy: 0.8574 - loss: 0.3813 - val_accuracy: 0.8722 - val_loss: 0.3512\n",
            "Epoch 6/20\n",
            "\u001b[1m94/94\u001b[0m \u001b[32m━━━━━━━━━━━━━━━━━━━━\u001b[0m\u001b[37m\u001b[0m \u001b[1m9s\u001b[0m 45ms/step - accuracy: 0.8608 - loss: 0.3767 - val_accuracy: 0.8748 - val_loss: 0.3453\n",
            "Epoch 7/20\n",
            "\u001b[1m94/94\u001b[0m \u001b[32m━━━━━━━━━━━━━━━━━━━━\u001b[0m\u001b[37m\u001b[0m \u001b[1m5s\u001b[0m 48ms/step - accuracy: 0.8720 - loss: 0.3467 - val_accuracy: 0.8758 - val_loss: 0.3367\n",
            "Epoch 8/20\n",
            "\u001b[1m94/94\u001b[0m \u001b[32m━━━━━━━━━━━━━━━━━━━━\u001b[0m\u001b[37m\u001b[0m \u001b[1m4s\u001b[0m 40ms/step - accuracy: 0.8729 - loss: 0.3410 - val_accuracy: 0.8791 - val_loss: 0.3333\n",
            "Epoch 9/20\n",
            "\u001b[1m94/94\u001b[0m \u001b[32m━━━━━━━━━━━━━━━━━━━━\u001b[0m\u001b[37m\u001b[0m \u001b[1m7s\u001b[0m 58ms/step - accuracy: 0.8765 - loss: 0.3314 - val_accuracy: 0.8755 - val_loss: 0.3289\n",
            "Epoch 10/20\n",
            "\u001b[1m94/94\u001b[0m \u001b[32m━━━━━━━━━━━━━━━━━━━━\u001b[0m\u001b[37m\u001b[0m \u001b[1m9s\u001b[0m 40ms/step - accuracy: 0.8748 - loss: 0.3359 - val_accuracy: 0.8832 - val_loss: 0.3192\n",
            "Epoch 11/20\n",
            "\u001b[1m94/94\u001b[0m \u001b[32m━━━━━━━━━━━━━━━━━━━━\u001b[0m\u001b[37m\u001b[0m \u001b[1m5s\u001b[0m 56ms/step - accuracy: 0.8792 - loss: 0.3210 - val_accuracy: 0.8820 - val_loss: 0.3224\n",
            "Epoch 12/20\n",
            "\u001b[1m94/94\u001b[0m \u001b[32m━━━━━━━━━━━━━━━━━━━━\u001b[0m\u001b[37m\u001b[0m \u001b[1m4s\u001b[0m 44ms/step - accuracy: 0.8824 - loss: 0.3121 - val_accuracy: 0.8820 - val_loss: 0.3270\n",
            "Epoch 13/20\n",
            "\u001b[1m94/94\u001b[0m \u001b[32m━━━━━━━━━━━━━━━━━━━━\u001b[0m\u001b[37m\u001b[0m \u001b[1m5s\u001b[0m 41ms/step - accuracy: 0.8841 - loss: 0.3097 - val_accuracy: 0.8891 - val_loss: 0.3044\n",
            "Epoch 14/20\n",
            "\u001b[1m94/94\u001b[0m \u001b[32m━━━━━━━━━━━━━━━━━━━━\u001b[0m\u001b[37m\u001b[0m \u001b[1m8s\u001b[0m 74ms/step - accuracy: 0.8840 - loss: 0.3063 - val_accuracy: 0.8892 - val_loss: 0.3014\n",
            "Epoch 15/20\n",
            "\u001b[1m94/94\u001b[0m \u001b[32m━━━━━━━━━━━━━━━━━━━━\u001b[0m\u001b[37m\u001b[0m \u001b[1m5s\u001b[0m 49ms/step - accuracy: 0.8880 - loss: 0.2931 - val_accuracy: 0.8878 - val_loss: 0.3089\n",
            "Epoch 16/20\n",
            "\u001b[1m94/94\u001b[0m \u001b[32m━━━━━━━━━━━━━━━━━━━━\u001b[0m\u001b[37m\u001b[0m \u001b[1m4s\u001b[0m 43ms/step - accuracy: 0.8917 - loss: 0.2919 - val_accuracy: 0.8923 - val_loss: 0.2991\n",
            "Epoch 17/20\n",
            "\u001b[1m94/94\u001b[0m \u001b[32m━━━━━━━━━━━━━━━━━━━━\u001b[0m\u001b[37m\u001b[0m \u001b[1m6s\u001b[0m 57ms/step - accuracy: 0.8906 - loss: 0.2822 - val_accuracy: 0.8913 - val_loss: 0.2954\n",
            "Epoch 18/20\n",
            "\u001b[1m94/94\u001b[0m \u001b[32m━━━━━━━━━━━━━━━━━━━━\u001b[0m\u001b[37m\u001b[0m \u001b[1m12s\u001b[0m 75ms/step - accuracy: 0.8916 - loss: 0.2832 - val_accuracy: 0.8940 - val_loss: 0.2933\n",
            "Epoch 19/20\n",
            "\u001b[1m94/94\u001b[0m \u001b[32m━━━━━━━━━━━━━━━━━━━━\u001b[0m\u001b[37m\u001b[0m \u001b[1m4s\u001b[0m 41ms/step - accuracy: 0.8955 - loss: 0.2776 - val_accuracy: 0.8938 - val_loss: 0.2932\n",
            "Epoch 20/20\n",
            "\u001b[1m94/94\u001b[0m \u001b[32m━━━━━━━━━━━━━━━━━━━━\u001b[0m\u001b[37m\u001b[0m \u001b[1m4s\u001b[0m 41ms/step - accuracy: 0.8974 - loss: 0.2732 - val_accuracy: 0.8920 - val_loss: 0.2907\n"
          ]
        }
      ]
    },
    {
      "cell_type": "code",
      "source": [
        "input_shape = (28, 28, 1)  # Input shape for FashionMNIST images\n",
        "model_mlp3 = mlp1(input_shape)\n",
        "\n",
        "model_mlp3.compile(optimizer='adam',\n",
        "              loss='sparse_categorical_crossentropy',\n",
        "              metrics=['accuracy'])\n",
        "\n",
        "\n",
        "history1 = model_mlp3.fit(X_train, y_train, epochs=20, validation_split=0.2, batch_size = 512)\n",
        "\n"
      ],
      "metadata": {
        "colab": {
          "base_uri": "https://localhost:8080/"
        },
        "id": "Qtq9V16d93CT",
        "outputId": "4964239a-52ed-405c-cc77-0dae57b4cf70"
      },
      "execution_count": 34,
      "outputs": [
        {
          "output_type": "stream",
          "name": "stdout",
          "text": [
            "Epoch 1/20\n",
            "\u001b[1m94/94\u001b[0m \u001b[32m━━━━━━━━━━━━━━━━━━━━\u001b[0m\u001b[37m\u001b[0m \u001b[1m4s\u001b[0m 33ms/step - accuracy: 0.6512 - loss: 1.0041 - val_accuracy: 0.8273 - val_loss: 0.5040\n",
            "Epoch 2/20\n",
            "\u001b[1m94/94\u001b[0m \u001b[32m━━━━━━━━━━━━━━━━━━━━\u001b[0m\u001b[37m\u001b[0m \u001b[1m7s\u001b[0m 50ms/step - accuracy: 0.8203 - loss: 0.5077 - val_accuracy: 0.8483 - val_loss: 0.4264\n",
            "Epoch 3/20\n",
            "\u001b[1m94/94\u001b[0m \u001b[32m━━━━━━━━━━━━━━━━━━━━\u001b[0m\u001b[37m\u001b[0m \u001b[1m3s\u001b[0m 31ms/step - accuracy: 0.8457 - loss: 0.4428 - val_accuracy: 0.8650 - val_loss: 0.3931\n",
            "Epoch 4/20\n",
            "\u001b[1m94/94\u001b[0m \u001b[32m━━━━━━━━━━━━━━━━━━━━\u001b[0m\u001b[37m\u001b[0m \u001b[1m5s\u001b[0m 31ms/step - accuracy: 0.8527 - loss: 0.4143 - val_accuracy: 0.8648 - val_loss: 0.3822\n",
            "Epoch 5/20\n",
            "\u001b[1m94/94\u001b[0m \u001b[32m━━━━━━━━━━━━━━━━━━━━\u001b[0m\u001b[37m\u001b[0m \u001b[1m4s\u001b[0m 45ms/step - accuracy: 0.8588 - loss: 0.3914 - val_accuracy: 0.8734 - val_loss: 0.3647\n",
            "Epoch 6/20\n",
            "\u001b[1m94/94\u001b[0m \u001b[32m━━━━━━━━━━━━━━━━━━━━\u001b[0m\u001b[37m\u001b[0m \u001b[1m4s\u001b[0m 31ms/step - accuracy: 0.8656 - loss: 0.3735 - val_accuracy: 0.8765 - val_loss: 0.3536\n",
            "Epoch 7/20\n",
            "\u001b[1m94/94\u001b[0m \u001b[32m━━━━━━━━━━━━━━━━━━━━\u001b[0m\u001b[37m\u001b[0m \u001b[1m3s\u001b[0m 31ms/step - accuracy: 0.8694 - loss: 0.3632 - val_accuracy: 0.8786 - val_loss: 0.3437\n",
            "Epoch 8/20\n",
            "\u001b[1m94/94\u001b[0m \u001b[32m━━━━━━━━━━━━━━━━━━━━\u001b[0m\u001b[37m\u001b[0m \u001b[1m3s\u001b[0m 31ms/step - accuracy: 0.8718 - loss: 0.3497 - val_accuracy: 0.8794 - val_loss: 0.3332\n",
            "Epoch 9/20\n",
            "\u001b[1m94/94\u001b[0m \u001b[32m━━━━━━━━━━━━━━━━━━━━\u001b[0m\u001b[37m\u001b[0m \u001b[1m5s\u001b[0m 49ms/step - accuracy: 0.8757 - loss: 0.3386 - val_accuracy: 0.8813 - val_loss: 0.3313\n",
            "Epoch 10/20\n",
            "\u001b[1m94/94\u001b[0m \u001b[32m━━━━━━━━━━━━━━━━━━━━\u001b[0m\u001b[37m\u001b[0m \u001b[1m3s\u001b[0m 32ms/step - accuracy: 0.8780 - loss: 0.3331 - val_accuracy: 0.8823 - val_loss: 0.3318\n",
            "Epoch 11/20\n",
            "\u001b[1m94/94\u001b[0m \u001b[32m━━━━━━━━━━━━━━━━━━━━\u001b[0m\u001b[37m\u001b[0m \u001b[1m5s\u001b[0m 34ms/step - accuracy: 0.8808 - loss: 0.3257 - val_accuracy: 0.8860 - val_loss: 0.3195\n",
            "Epoch 12/20\n",
            "\u001b[1m94/94\u001b[0m \u001b[32m━━━━━━━━━━━━━━━━━━━━\u001b[0m\u001b[37m\u001b[0m \u001b[1m8s\u001b[0m 68ms/step - accuracy: 0.8823 - loss: 0.3156 - val_accuracy: 0.8873 - val_loss: 0.3124\n",
            "Epoch 13/20\n",
            "\u001b[1m94/94\u001b[0m \u001b[32m━━━━━━━━━━━━━━━━━━━━\u001b[0m\u001b[37m\u001b[0m \u001b[1m7s\u001b[0m 31ms/step - accuracy: 0.8871 - loss: 0.3067 - val_accuracy: 0.8866 - val_loss: 0.3175\n",
            "Epoch 14/20\n",
            "\u001b[1m94/94\u001b[0m \u001b[32m━━━━━━━━━━━━━━━━━━━━\u001b[0m\u001b[37m\u001b[0m \u001b[1m4s\u001b[0m 44ms/step - accuracy: 0.8851 - loss: 0.3088 - val_accuracy: 0.8825 - val_loss: 0.3288\n",
            "Epoch 15/20\n",
            "\u001b[1m94/94\u001b[0m \u001b[32m━━━━━━━━━━━━━━━━━━━━\u001b[0m\u001b[37m\u001b[0m \u001b[1m3s\u001b[0m 34ms/step - accuracy: 0.8915 - loss: 0.3003 - val_accuracy: 0.8887 - val_loss: 0.3111\n",
            "Epoch 16/20\n",
            "\u001b[1m94/94\u001b[0m \u001b[32m━━━━━━━━━━━━━━━━━━━━\u001b[0m\u001b[37m\u001b[0m \u001b[1m5s\u001b[0m 32ms/step - accuracy: 0.8893 - loss: 0.2931 - val_accuracy: 0.8849 - val_loss: 0.3078\n",
            "Epoch 17/20\n",
            "\u001b[1m94/94\u001b[0m \u001b[32m━━━━━━━━━━━━━━━━━━━━\u001b[0m\u001b[37m\u001b[0m \u001b[1m10s\u001b[0m 79ms/step - accuracy: 0.8933 - loss: 0.2866 - val_accuracy: 0.8903 - val_loss: 0.3007\n",
            "Epoch 18/20\n",
            "\u001b[1m94/94\u001b[0m \u001b[32m━━━━━━━━━━━━━━━━━━━━\u001b[0m\u001b[37m\u001b[0m \u001b[1m6s\u001b[0m 31ms/step - accuracy: 0.8925 - loss: 0.2892 - val_accuracy: 0.8910 - val_loss: 0.2986\n",
            "Epoch 19/20\n",
            "\u001b[1m94/94\u001b[0m \u001b[32m━━━━━━━━━━━━━━━━━━━━\u001b[0m\u001b[37m\u001b[0m \u001b[1m3s\u001b[0m 33ms/step - accuracy: 0.8975 - loss: 0.2770 - val_accuracy: 0.8929 - val_loss: 0.2980\n",
            "Epoch 20/20\n",
            "\u001b[1m94/94\u001b[0m \u001b[32m━━━━━━━━━━━━━━━━━━━━\u001b[0m\u001b[37m\u001b[0m \u001b[1m4s\u001b[0m 47ms/step - accuracy: 0.8967 - loss: 0.2821 - val_accuracy: 0.8880 - val_loss: 0.3069\n"
          ]
        }
      ]
    },
    {
      "cell_type": "code",
      "source": [
        "res = []\n",
        "res.append(model_mlp1.evaluate(X_test,y_test))\n",
        "res.append(model_mlp2.evaluate(X_test,y_test))\n",
        "res.append(model_mlp3.evaluate(X_test,y_test))\n",
        "\n",
        "for i, result in enumerate(res, start=1):\n",
        "    print(f\"Evaluation results for mlp{i}:\")\n",
        "    print(\"Loss:\", result[0])\n",
        "    print(\"Accuracy:\", result[1], \"\\n\")"
      ],
      "metadata": {
        "colab": {
          "base_uri": "https://localhost:8080/"
        },
        "id": "ITAY9F0g92-S",
        "outputId": "536ea2fa-e964-4682-c413-0c429b92ee57"
      },
      "execution_count": 36,
      "outputs": [
        {
          "output_type": "stream",
          "name": "stdout",
          "text": [
            "\u001b[1m313/313\u001b[0m \u001b[32m━━━━━━━━━━━━━━━━━━━━\u001b[0m\u001b[37m\u001b[0m \u001b[1m1s\u001b[0m 4ms/step - accuracy: 0.8846 - loss: 0.3219\n",
            "\u001b[1m313/313\u001b[0m \u001b[32m━━━━━━━━━━━━━━━━━━━━\u001b[0m\u001b[37m\u001b[0m \u001b[1m2s\u001b[0m 5ms/step - accuracy: 0.8849 - loss: 0.3156\n",
            "\u001b[1m313/313\u001b[0m \u001b[32m━━━━━━━━━━━━━━━━━━━━\u001b[0m\u001b[37m\u001b[0m \u001b[1m2s\u001b[0m 5ms/step - accuracy: 0.8807 - loss: 0.3247\n",
            "Evaluation results for mlp1:\n",
            "Loss: 0.32376015186309814\n",
            "Accuracy: 0.8848000168800354 \n",
            "\n",
            "Evaluation results for mlp2:\n",
            "Loss: 0.3169262409210205\n",
            "Accuracy: 0.8830000162124634 \n",
            "\n",
            "Evaluation results for mlp3:\n",
            "Loss: 0.3287707567214966\n",
            "Accuracy: 0.8809000253677368 \n",
            "\n"
          ]
        }
      ]
    },
    {
      "cell_type": "code",
      "source": [
        "res[0][0]"
      ],
      "metadata": {
        "colab": {
          "base_uri": "https://localhost:8080/"
        },
        "id": "x840QBC4923B",
        "outputId": "65a7335f-a05c-4b23-8e7f-08f0bfc63583"
      },
      "execution_count": 40,
      "outputs": [
        {
          "output_type": "execute_result",
          "data": {
            "text/plain": [
              "0.32376015186309814"
            ]
          },
          "metadata": {},
          "execution_count": 40
        }
      ]
    },
    {
      "cell_type": "code",
      "source": [],
      "metadata": {
        "id": "BCzypWsPD6ki"
      },
      "execution_count": null,
      "outputs": []
    },
    {
      "cell_type": "code",
      "source": [
        "import pandas as pd\n",
        "\n",
        "data = {\n",
        "    'Model': ['CNN', 'mlp1', 'mlp2', 'mlp3'],\n",
        "    'Accuracy': [accuracy_cnn, res[0][0], res[1][0], res[2][0]],\n",
        "}\n",
        "\n",
        "df_comparison = pd.DataFrame(data)\n",
        "print(df_comparison)"
      ],
      "metadata": {
        "colab": {
          "base_uri": "https://localhost:8080/"
        },
        "id": "4lKKEn-F916m",
        "outputId": "10ae042a-dab2-49bb-c99d-c5c68162c797"
      },
      "execution_count": 41,
      "outputs": [
        {
          "output_type": "stream",
          "name": "stdout",
          "text": [
            "  Model  Accuracy\n",
            "0   CNN  0.911200\n",
            "1  mlp1  0.323760\n",
            "2  mlp2  0.316926\n",
            "3  mlp3  0.328771\n"
          ]
        }
      ]
    }
  ]
}