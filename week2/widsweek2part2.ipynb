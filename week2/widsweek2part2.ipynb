{
  "nbformat": 4,
  "nbformat_minor": 0,
  "metadata": {
    "colab": {
      "provenance": []
    },
    "kernelspec": {
      "name": "python3",
      "display_name": "Python 3"
    },
    "language_info": {
      "name": "python"
    }
  },
  "cells": [
    {
      "cell_type": "code",
      "execution_count": null,
      "metadata": {
        "id": "UK6Smje_YkNZ"
      },
      "outputs": [],
      "source": [
        "import tensorflow as tf\n",
        "from tensorflow.keras.applications.inception_v3 import InceptionV3, preprocess_input, decode_predictions\n",
        "from tensorflow.keras.datasets import cifar10\n",
        "from tensorflow.keras.preprocessing.image import ImageDataGenerator\n",
        "from tensorflow.keras import layers, models\n",
        "import numpy as np\n",
        "\n",
        "# Load pre-trained InceptionV3 (without the classification layer)\n",
        "base_model = InceptionV3(weights='imagenet', include_top=False, input_shape=(299, 299, 3))\n",
        "\n",
        "# Load CIFAR10 dataset\n",
        "(x_train, y_train), (x_test, y_test) = cifar10.load_data()\n",
        "\n",
        "# Preprocess CIFAR10 images\n",
        "x_train = tf.image.resize(x_train, (299, 299)).numpy() # Resize to match InceptionV3 input\n",
        "x_test = tf.image.resize(x_test, (299, 299)).numpy()\n",
        "x_train = preprocess_input(x_train)\n",
        "x_test = preprocess_input(x_test)"
      ]
    },
    {
      "cell_type": "code",
      "source": [
        "# Add a new classification layer for CIFAR10\n",
        "model = models.Sequential([\n",
        "    base_model,\n",
        "    layers.GlobalAveragePooling2D(),\n",
        "    layers.Dense(10, activation='softmax') # 10 classes for CIFAR10\n",
        "])\n",
        "\n",
        "# Compile the model\n",
        "model.compile(optimizer='adam', loss='sparse_categorical_crossentropy', metrics=['accuracy'])\n",
        "\n",
        "# Evaluate the model on CIFAR10\n",
        "loss, accuracy = model.evaluate(x_test, y_test, verbose=0)\n",
        "print(f\"Initial Accuracy: {accuracy:.4f}\")\n",
        "initial_loss=loss\n",
        "initial_accuracy=accuracy"
      ],
      "metadata": {
        "id": "taHlA_MGYpN1"
      },
      "execution_count": null,
      "outputs": []
    },
    {
      "cell_type": "code",
      "source": [
        "# Fine-tune some layers of the base model\n",
        "for layer in base_model.layers[-10:]:  # Fine-tune the last 10 layers\n",
        "    layer.trainable = True\n",
        "\n",
        "# Recompile the model with a lower learning rate\n",
        "model.compile(optimizer=tf.keras.optimizers.Adam(1e-5),  # Lower learning rate\n",
        "              loss='sparse_categorical_crossentropy',\n",
        "              metrics=['accuracy'])\n",
        "\n",
        "# Train the model with data augmentation\n",
        "datagen = ImageDataGenerator(\n",
        "    rotation_range=20,\n",
        "    width_shift_range=0.2,\n",
        "    height_shift_range=0.2,\n",
        "    horizontal_flip=True\n",
        ")\n",
        "datagen.fit(x_train)\n",
        "\n",
        "model.fit(datagen.flow(x_train, y_train, batch_size=8),\n",
        "          epochs=10,  # Adjust as needed\n",
        "          validation_data=(x_test, y_test))\n",
        "\n",
        "# Evaluate the fine-tuned model\n",
        "loss, accuracy = model.evaluate(x_test, y_test, verbose=0)\n",
        "print(f\"Fine-tuned Accuracy: {accuracy:.4f}\")\n",
        "\n",
        "ft_loss=loss\n",
        "ft_accuracy=accuracy"
      ],
      "metadata": {
        "id": "FOmCWQEaYtwR"
      },
      "execution_count": null,
      "outputs": []
    },
    {
      "cell_type": "code",
      "source": [
        "import pandas as pd\n",
        "\n",
        "data = {\n",
        "    'Model': ['before fine-tuning', 'after fine-tuning'],\n",
        "    'Accuracy': [initial_accuracy,ft_accuracy],\n",
        "}\n",
        "\n",
        "df_comparison = pd.DataFrame(data)\n",
        "print(df_comparison)"
      ],
      "metadata": {
        "id": "QZhtngjWZNRZ"
      },
      "execution_count": null,
      "outputs": []
    },
    {
      "cell_type": "code",
      "source": [
        "del base_model\n",
        "#del x_train, y_train\n",
        "#del x_test, y_test\n",
        "import gc; gc.collect()"
      ],
      "metadata": {
        "colab": {
          "base_uri": "https://localhost:8080/",
          "height": 193
        },
        "id": "_Yy0k8d2Ie52",
        "outputId": "90c2d5b9-32b7-4e6f-b6de-3a096056b138"
      },
      "execution_count": 2,
      "outputs": [
        {
          "output_type": "error",
          "ename": "NameError",
          "evalue": "name 'base_model' is not defined",
          "traceback": [
            "\u001b[0;31m---------------------------------------------------------------------------\u001b[0m",
            "\u001b[0;31mNameError\u001b[0m                                 Traceback (most recent call last)",
            "\u001b[0;32m<ipython-input-2-03863b83284a>\u001b[0m in \u001b[0;36m<cell line: 1>\u001b[0;34m()\u001b[0m\n\u001b[0;32m----> 1\u001b[0;31m \u001b[0;32mdel\u001b[0m \u001b[0mbase_model\u001b[0m\u001b[0;34m\u001b[0m\u001b[0;34m\u001b[0m\u001b[0m\n\u001b[0m\u001b[1;32m      2\u001b[0m \u001b[0;31m#del x_train, y_train\u001b[0m\u001b[0;34m\u001b[0m\u001b[0;34m\u001b[0m\u001b[0m\n\u001b[1;32m      3\u001b[0m \u001b[0;31m#del x_test, y_test\u001b[0m\u001b[0;34m\u001b[0m\u001b[0;34m\u001b[0m\u001b[0m\n\u001b[1;32m      4\u001b[0m \u001b[0;32mimport\u001b[0m \u001b[0mgc\u001b[0m\u001b[0;34m;\u001b[0m \u001b[0mgc\u001b[0m\u001b[0;34m.\u001b[0m\u001b[0mcollect\u001b[0m\u001b[0;34m(\u001b[0m\u001b[0;34m)\u001b[0m\u001b[0;34m\u001b[0m\u001b[0;34m\u001b[0m\u001b[0m\n",
            "\u001b[0;31mNameError\u001b[0m: name 'base_model' is not defined"
          ]
        }
      ]
    }
  ]
}