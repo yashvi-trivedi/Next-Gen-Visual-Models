{
  "nbformat": 4,
  "nbformat_minor": 0,
  "metadata": {
    "colab": {
      "provenance": []
    },
    "kernelspec": {
      "name": "python3",
      "display_name": "Python 3"
    },
    "language_info": {
      "name": "python"
    }
  },
  "cells": [
    {
      "cell_type": "markdown",
      "source": [
        "# **Task 1: Activations**\n",
        "\n",
        "---\n"
      ],
      "metadata": {
        "id": "4nF5fKVKGjQB"
      }
    },
    {
      "cell_type": "code",
      "execution_count": 1,
      "metadata": {
        "id": "VD7W93QXE2d9"
      },
      "outputs": [],
      "source": [
        "import numpy as np\n",
        "import math"
      ]
    },
    {
      "cell_type": "code",
      "source": [
        "class Activation(object):\n",
        "\n",
        "    \"\"\"\n",
        "    Interface for activation functions (non-linearities).\n",
        "\n",
        "    In all implementations, the state attribute must contain the result,\n",
        "    i.e. the output of forward.\n",
        "    \"\"\"\n",
        "\n",
        "    # No additional work is needed for this class, as it acts like an\n",
        "    # abstract base class for the others\n",
        "\n",
        "    # Note that these activation functions are scalar operations. I.e, they\n",
        "    # shouldn't change the shape of the input.\n",
        "\n",
        "    def __init__(self):\n",
        "        self.state = None\n",
        "\n",
        "    def __call__(self, x):\n",
        "        return self.forward(x)\n",
        "\n",
        "    def forward(self, x):\n",
        "        raise NotImplemented\n",
        "\n",
        "    def derivative(self):\n",
        "        raise NotImplemented"
      ],
      "metadata": {
        "id": "hayqfGEHE9rq"
      },
      "execution_count": 2,
      "outputs": []
    },
    {
      "cell_type": "code",
      "source": [
        "class Identity(Activation):\n",
        "\n",
        "    \"\"\"\n",
        "    Identity function (already implemented).\n",
        "    \"\"\"\n",
        "\n",
        "    # This class is a gimme as it is already implemented for you as an example\n",
        "\n",
        "    def __init__(self):\n",
        "        super(Identity, self).__init__()\n",
        "\n",
        "    def forward(self, x):\n",
        "        self.state = x\n",
        "        return x\n",
        "\n",
        "    def derivative(self):\n",
        "        return 1.0"
      ],
      "metadata": {
        "id": "Rbmd9ag3FKZY"
      },
      "execution_count": 3,
      "outputs": []
    },
    {
      "cell_type": "code",
      "source": [
        "class Sigmoid(Activation):\n",
        "\n",
        "    \"\"\"\n",
        "    Sigmoid non-linearity\n",
        "    \"\"\"\n",
        "\n",
        "    # Remember do not change the function signatures as those are needed\n",
        "    # to stay the same for AutoLab.\n",
        "\n",
        "    def __init__(self):\n",
        "        super(Sigmoid, self).__init__()\n",
        "        self.output = None\n",
        "\n",
        "    def forward(self, x):\n",
        "        self.output = 1 / (1 + np.exp(-x))\n",
        "        return self.output\n",
        "\n",
        "    def derivative(self):\n",
        "        if self.output is None:\n",
        "            raise ValueError(\"Forward pass must be called before derivative.\")\n",
        "        return self.output * (1 - self.output)"
      ],
      "metadata": {
        "id": "C-cdbPOLFzpl"
      },
      "execution_count": 4,
      "outputs": []
    },
    {
      "cell_type": "code",
      "source": [
        "class Tanh(Activation):\n",
        "\n",
        "    \"\"\"\n",
        "    Tanh non-linearity\n",
        "    \"\"\"\n",
        "\n",
        "    def __init__(self):\n",
        "        super(Tanh, self).__init__()\n",
        "        self.output = None\n",
        "\n",
        "    def forward(self, x):\n",
        "        self.output = np.tanh(x)\n",
        "        return self.output\n",
        "\n",
        "    def derivative(self):\n",
        "      if self.output is None:\n",
        "            raise ValueError(\"Forward pass must be called before derivative.\")\n",
        "      return 1 - np.pow(self.output, 2)\n"
      ],
      "metadata": {
        "id": "rS-KX7g0Gejd"
      },
      "execution_count": 5,
      "outputs": []
    },
    {
      "cell_type": "code",
      "source": [
        "class ReLU(Activation):\n",
        "\n",
        "    \"\"\"\n",
        "    ReLU non-linearity\n",
        "    \"\"\"\n",
        "\n",
        "    def __init__(self):\n",
        "        super(ReLU, self).__init__()\n",
        "        self.output = None\n",
        "\n",
        "    def forward(self, x):\n",
        "        self.output = np.maximum(0, x)\n",
        "        return self.output\n",
        "\n",
        "    def derivative(self):\n",
        "        if self.output is None:\n",
        "            raise ValueError(\"Forward pass must be called before derivative.\")\n",
        "        return 1 - np.where(self.output > 0, 1, 0)"
      ],
      "metadata": {
        "id": "QlN76T3l6QLK"
      },
      "execution_count": 6,
      "outputs": []
    },
    {
      "cell_type": "markdown",
      "source": [
        "# **Task 2: Loss**\n",
        "\n",
        "---\n",
        "\n"
      ],
      "metadata": {
        "id": "iE_zN0DA7svD"
      }
    },
    {
      "cell_type": "code",
      "source": [
        "# The following Criterion class will be used again as the basis for a number\n",
        "# of loss functions (which are in the form of classes so that they can be\n",
        "# exchanged easily (it's how PyTorch and other ML libraries do it))\n",
        "\n",
        "class Criterion(object):\n",
        "    \"\"\"\n",
        "    Interface for loss functions.\n",
        "    \"\"\"\n",
        "\n",
        "    # Nothing needs done to this class, it's used by the following Criterion classes\n",
        "\n",
        "    def __init__(self):\n",
        "        self.logits = None\n",
        "        self.labels = None\n",
        "        self.loss = None\n",
        "\n",
        "    def __call__(self, x, y):\n",
        "        return self.forward(x, y)\n",
        "\n",
        "    def forward(self, x, y):\n",
        "        raise NotImplemented\n",
        "\n",
        "    def derivative(self):\n",
        "        raise NotImplemented"
      ],
      "metadata": {
        "id": "1bSpXzlq77cR"
      },
      "execution_count": 7,
      "outputs": []
    },
    {
      "cell_type": "code",
      "source": [
        "class SoftmaxCrossEntropy(Criterion):\n",
        "    \"\"\"\n",
        "    Softmax loss\n",
        "    \"\"\"\n",
        "\n",
        "    def __init__(self):\n",
        "        super(SoftmaxCrossEntropy, self).__init__()\n",
        "\n",
        "    def forward(self, x, y):\n",
        "        \"\"\"\n",
        "        Argument:\n",
        "            x (np.array): (batch size, 10)\n",
        "            y (np.array): (batch size, 10)\n",
        "        Return:\n",
        "            out (np.array): (batch size, )\n",
        "        \"\"\"\n",
        "        self.logits = x\n",
        "        self.labels = y\n",
        "\n",
        "        \"\"\"Compute softmax values for each sets of scores in x.\"\"\"\n",
        "        self.softmax_probs = np.exp(x) / np.sum(np.exp(x), axis=0)\n",
        "        softmax_probs = self.softmax_probs\n",
        "\n",
        "        # Compute the per-sample loss\n",
        "        # y * log(softmax_probs) extracts the log probabilities of the correct classes\n",
        "        log_probs = np.log(softmax_probs + 1e-15)  # Add a small epsilon to avoid log(0)\n",
        "        loss = -np.sum(y * log_probs, axis=1)  # Cross-entropy loss (batch_size,)\n",
        "\n",
        "        return loss\n",
        "\n",
        "    def derivative(self):\n",
        "        \"\"\"\n",
        "        Return:\n",
        "            out (np.array): (batch size, 10)\n",
        "        \"\"\"\n",
        "\n",
        "        # Gradient of cross-entropy with softmax: softmax_probs - labels\n",
        "        batch_size = self.logits.shape[0]\n",
        "        return (self.softmax_probs - self.labels)/batch_size"
      ],
      "metadata": {
        "id": "IbjCRCfeANYA"
      },
      "execution_count": 8,
      "outputs": []
    },
    {
      "cell_type": "markdown",
      "source": [
        "# **Task 3: Linear Layer**\n",
        "\n",
        "---\n",
        "\n"
      ],
      "metadata": {
        "id": "yTCgfMTnv_g1"
      }
    },
    {
      "cell_type": "code",
      "source": [
        "class Linear():\n",
        "    def __init__(self, in_feature, out_feature, weight_init_fn, bias_init_fn):\n",
        "\n",
        "        \"\"\"\n",
        "        Argument:\n",
        "            W (np.array): (in feature, out feature)\n",
        "            dW (np.array): (in feature, out feature)\n",
        "            momentum_W (np.array): (in feature, out feature)\n",
        "\n",
        "            b (np.array): (1, out feature)\n",
        "            db (np.array): (1, out feature)\n",
        "            momentum_B (np.array): (1, out feature)\n",
        "        \"\"\"\n",
        "\n",
        "        self.W = weight_init_fn(in_feature, out_feature)\n",
        "        self.b = bias_init_fn(out_feature)\n",
        "\n",
        "        # TODO: Complete these but do not change the names.\n",
        "        self.dW = np.zeros(self.W)\n",
        "        self.db = np.zeros(self.b)\n",
        "\n",
        "        self.momentum_W = np.zeros(self.W)\n",
        "        self.momentum_b = np.zeros(self.b)\n",
        "\n",
        "    def __call__(self, x):\n",
        "        return self.forward(x)\n",
        "\n",
        "    def forward(self, x):\n",
        "        \"\"\"\n",
        "        Argument:\n",
        "            x (np.array): (batch size, in feature)\n",
        "        Return:\n",
        "            out (np.array): (batch size, out feature)\n",
        "        \"\"\"\n",
        "        self.x = x\n",
        "        out = np.dot(x, self.W) + self.b\n",
        "        return out\n",
        "\n",
        "    def backward(self, delta):\n",
        "\n",
        "        \"\"\"\n",
        "        Argument:\n",
        "            delta (np.array): (batch size, out feature)\n",
        "        Return:\n",
        "            out (np.array): (batch size, in feature)\n",
        "        \"\"\"\n",
        "        batch_size = self.x.shape[0]    #number of samples\n",
        "        self.dW = np.dot(self.x.T, delta) / batch_size\n",
        "        self.db = np.sum(delta, axis=0, keepdims=True) / batch_size\n",
        "        dx = np.dot(delta, self.W.T)\n",
        "        return dx\n"
      ],
      "metadata": {
        "id": "2WBEWTFlwCMU"
      },
      "execution_count": 11,
      "outputs": []
    },
    {
      "cell_type": "markdown",
      "source": [
        "# **Task 4: Simple MLP**\n",
        "\n",
        "---\n",
        "\n"
      ],
      "metadata": {
        "id": "eNk7YPw0qJ-U"
      }
    },
    {
      "cell_type": "code",
      "source": [
        "class MLP(object):\n",
        "\n",
        "    \"\"\"\n",
        "    A simple multilayer perceptron\n",
        "    \"\"\"\n",
        "\n",
        "    def __init__(self, input_size, output_size, hiddens, activations, weight_init_fn,\n",
        "                 bias_init_fn, criterion, lr):\n",
        "\n",
        "        # Don't change this -->\n",
        "        self.train_mode = True\n",
        "        self.nlayers = len(hiddens) + 1\n",
        "        self.input_size = input_size\n",
        "        self.output_size = output_size\n",
        "        self.activations = activations\n",
        "        self.criterion = criterion\n",
        "        self.lr = lr\n",
        "        # <---------------------\n",
        "\n",
        "        # Don't change the name of the following class attributes,\n",
        "        # the autograder will check against these attributes. But you will need to change\n",
        "        # the values in order to initialize them correctly\n",
        "\n",
        "        # Initialize and add all your linear layers into the list 'self.linear_layers'\n",
        "        # (HINT: self.foo = [ bar(???) for ?? in ? ])\n",
        "        # (HINT: Can you use zip here?)\n",
        "        self.linear_layers = [\n",
        "            Linear(in_feature, out_feature, weight_init_fn, bias_init_fn)\n",
        "            for in_feature, out_feature in zip([input_size] + hiddens, hiddens + [output_size])\n",
        "            ]\n",
        "\n",
        "\n",
        "    def forward(self, x):\n",
        "        \"\"\"\n",
        "        Argument:\n",
        "            x (np.array): (batch size, input_size)\n",
        "        Return:\n",
        "            out (np.array): (batch size, output_size)\n",
        "        \"\"\"\n",
        "        # Complete the forward pass through your entire MLP.\n",
        "        self.output = x\n",
        "        for linear, activation in zip(self.linear_layers, self.activations):\n",
        "            x = activation(linear(x))\n",
        "        self.output = x\n",
        "        return x\n",
        "\n",
        "    def zero_grads(self):\n",
        "        # Use numpyArray.fill(0.0) to zero out your backpropped derivatives in each\n",
        "        # of your linear and batchnorm layers.\n",
        "        for layer in self.linear_layers:\n",
        "            layer.dW.fill(0.0)\n",
        "            layer.db.fill(0.0)\n",
        "\n",
        "    def step(self):\n",
        "        # Apply a step to the weights and biases of the linear layers.\n",
        "        # (You will add momentum later in the assignment to the linear layers)\n",
        "\n",
        "        for i in range(len(self.linear_layers)):\n",
        "            # Update weights and biases here\n",
        "            layer = self.linear_layers[i]\n",
        "            layer.W = layer.W - self.lr * layer.dW\n",
        "            layer.b = layer.b - self.lr * layer.db\n",
        "        # Do the same for batchnorm layers\n",
        "\n",
        "        #raise NotImplemented\n",
        "\n",
        "    def backward(self, labels):\n",
        "        # Backpropagate through the activation functions, batch norm and\n",
        "        # linear layers.\n",
        "        # Be aware of which return derivatives and which are pure backward passes\n",
        "        # i.e. take in a loss w.r.t it's output.\n",
        "        loss_grad = self.criterion.backward(self.output, labels)\n",
        "        for layer, activation in reversed(list(zip(self.linear_layers, self.activations))):\n",
        "          loss_grad = activation.backward(layer.backward(loss_grad))\n",
        "\n",
        "    def error(self, labels):\n",
        "        return (np.argmax(self.output, axis = 1) != np.argmax(labels, axis = 1)).sum()\n",
        "\n",
        "    def total_loss(self, labels):\n",
        "        return self.criterion(self.output, labels).sum()\n",
        "\n",
        "    def __call__(self, x):\n",
        "        return self.forward(x)\n",
        "\n",
        "    def train(self):\n",
        "        self.train_mode = True\n",
        "\n",
        "    def eval(self):\n",
        "        self.train_mode = False\n",
        "\n"
      ],
      "metadata": {
        "id": "uuCw5v3oqcpY"
      },
      "execution_count": 10,
      "outputs": []
    },
    {
      "cell_type": "code",
      "source": [
        "#mlp = MLP(784, 10, [64, 64, 32], [Sigmoid(), Sigmoid(), Sigmoid(), Identity()], weight_init_fn, bias_init_fn, SoftmaxCrossEntropy(), 0.008)"
      ],
      "metadata": {
        "id": "7SJM6jLKlBQm"
      },
      "execution_count": 13,
      "outputs": []
    }
  ]
}
